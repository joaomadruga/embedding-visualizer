{
 "cells": [
  {
   "cell_type": "markdown",
   "id": "309ccb55",
   "metadata": {},
   "source": [
    "# Análise de Embeddings de Poemas de Clarice Lispector e Medida de Criatividade"
   ]
  },
  {
   "cell_type": "markdown",
   "id": "e1035cd2",
   "metadata": {},
   "source": [
    "Este notebook coleta poemas curtos de Clarice Lispector via OpenAI API, gera embeddings usando diferentes modelos e reduz dimensões para visualizar a similaridade entre os poemas. Além disso, propõe uma medida de criatividade baseada na variabilidade semântica entre as linhas de cada poema."
   ]
  },
  {
   "cell_type": "markdown",
   "id": "80736aa0",
   "metadata": {},
   "source": [
    "## 1. Configuração e importações"
   ]
  },
  {
   "cell_type": "code",
   "execution_count": 1,
   "id": "c8da9792",
   "metadata": {},
   "outputs": [
    {
     "name": "stderr",
     "output_type": "stream",
     "text": [
      "/Users/joaomadruga/.pyenv/versions/default/lib/python3.11/site-packages/tqdm/auto.py:21: TqdmWarning: IProgress not found. Please update jupyter and ipywidgets. See https://ipywidgets.readthedocs.io/en/stable/user_install.html\n",
      "  from .autonotebook import tqdm as notebook_tqdm\n"
     ]
    }
   ],
   "source": [
    "\n",
    "import os\n",
    "from dotenv import load_dotenv\n",
    "load_dotenv()\n",
    "from openai import OpenAI\n",
    "\n",
    "client = OpenAI(api_key=os.getenv(\"OPENAI_API_KEY\"))\n",
    "from main import EmbeddingVisualizer\n",
    "import pandas as pd\n",
    "import numpy as np\n",
    "import plotly.express as px\n",
    "from sklearn.metrics.pairwise import cosine_distances\n"
   ]
  },
  {
   "cell_type": "markdown",
   "id": "43f07942",
   "metadata": {},
   "source": [
    "## 2. Carregamento de poemas do arquivo JSON"
   ]
  },
  {
   "cell_type": "code",
   "execution_count": 2,
   "id": "9298d2c8",
   "metadata": {},
   "outputs": [
    {
     "name": "stdout",
     "output_type": "stream",
     "text": [
      "Carregados 16 poemas.\n"
     ]
    }
   ],
   "source": [
    "import json\n",
    "with open('clarice_lispector_poemas.json', encoding='utf-8') as f:\n",
    "    data = json.load(f)\n",
    "poemas = {item['name']: item['poem'] for item in data['poems']}\n",
    "print(f\"Carregados {len(poemas)} poemas.\")\n"
   ]
  },
  {
   "cell_type": "markdown",
   "id": "8082c485",
   "metadata": {},
   "source": [
    "## 3. Geração de embeddings e redução de dimensionalidade"
   ]
  },
  {
   "cell_type": "code",
   "execution_count": 3,
   "id": "b0353bfb",
   "metadata": {},
   "outputs": [
    {
     "name": "stderr",
     "output_type": "stream",
     "text": [
      "/Users/joaomadruga/Desktop/projects/embedding-visualizer/main.py:36: LangChainDeprecationWarning: The class `OpenAIEmbeddings` was deprecated in LangChain 0.0.9 and will be removed in 1.0. An updated version of the class exists in the :class:`~langchain-openai package and should be used instead. To use it run `pip install -U :class:`~langchain-openai` and import as `from :class:`~langchain_openai import OpenAIEmbeddings``.\n",
      "  OpenAIEmbeddings(\n",
      "Some weights of BertModel were not initialized from the model checkpoint at jinaai/jina-embeddings-v2-base-en and are newly initialized: ['embeddings.position_embeddings.weight', 'encoder.layer.0.intermediate.dense.bias', 'encoder.layer.0.intermediate.dense.weight', 'encoder.layer.0.output.LayerNorm.bias', 'encoder.layer.0.output.LayerNorm.weight', 'encoder.layer.0.output.dense.bias', 'encoder.layer.0.output.dense.weight', 'encoder.layer.1.intermediate.dense.bias', 'encoder.layer.1.intermediate.dense.weight', 'encoder.layer.1.output.LayerNorm.bias', 'encoder.layer.1.output.LayerNorm.weight', 'encoder.layer.1.output.dense.bias', 'encoder.layer.1.output.dense.weight', 'encoder.layer.10.intermediate.dense.bias', 'encoder.layer.10.intermediate.dense.weight', 'encoder.layer.10.output.LayerNorm.bias', 'encoder.layer.10.output.LayerNorm.weight', 'encoder.layer.10.output.dense.bias', 'encoder.layer.10.output.dense.weight', 'encoder.layer.11.intermediate.dense.bias', 'encoder.layer.11.intermediate.dense.weight', 'encoder.layer.11.output.LayerNorm.bias', 'encoder.layer.11.output.LayerNorm.weight', 'encoder.layer.11.output.dense.bias', 'encoder.layer.11.output.dense.weight', 'encoder.layer.2.intermediate.dense.bias', 'encoder.layer.2.intermediate.dense.weight', 'encoder.layer.2.output.LayerNorm.bias', 'encoder.layer.2.output.LayerNorm.weight', 'encoder.layer.2.output.dense.bias', 'encoder.layer.2.output.dense.weight', 'encoder.layer.3.intermediate.dense.bias', 'encoder.layer.3.intermediate.dense.weight', 'encoder.layer.3.output.LayerNorm.bias', 'encoder.layer.3.output.LayerNorm.weight', 'encoder.layer.3.output.dense.bias', 'encoder.layer.3.output.dense.weight', 'encoder.layer.4.intermediate.dense.bias', 'encoder.layer.4.intermediate.dense.weight', 'encoder.layer.4.output.LayerNorm.bias', 'encoder.layer.4.output.LayerNorm.weight', 'encoder.layer.4.output.dense.bias', 'encoder.layer.4.output.dense.weight', 'encoder.layer.5.intermediate.dense.bias', 'encoder.layer.5.intermediate.dense.weight', 'encoder.layer.5.output.LayerNorm.bias', 'encoder.layer.5.output.LayerNorm.weight', 'encoder.layer.5.output.dense.bias', 'encoder.layer.5.output.dense.weight', 'encoder.layer.6.intermediate.dense.bias', 'encoder.layer.6.intermediate.dense.weight', 'encoder.layer.6.output.LayerNorm.bias', 'encoder.layer.6.output.LayerNorm.weight', 'encoder.layer.6.output.dense.bias', 'encoder.layer.6.output.dense.weight', 'encoder.layer.7.intermediate.dense.bias', 'encoder.layer.7.intermediate.dense.weight', 'encoder.layer.7.output.LayerNorm.bias', 'encoder.layer.7.output.LayerNorm.weight', 'encoder.layer.7.output.dense.bias', 'encoder.layer.7.output.dense.weight', 'encoder.layer.8.intermediate.dense.bias', 'encoder.layer.8.intermediate.dense.weight', 'encoder.layer.8.output.LayerNorm.bias', 'encoder.layer.8.output.LayerNorm.weight', 'encoder.layer.8.output.dense.bias', 'encoder.layer.8.output.dense.weight', 'encoder.layer.9.intermediate.dense.bias', 'encoder.layer.9.intermediate.dense.weight', 'encoder.layer.9.output.LayerNorm.bias', 'encoder.layer.9.output.LayerNorm.weight', 'encoder.layer.9.output.dense.bias', 'encoder.layer.9.output.dense.weight']\n",
      "You should probably TRAIN this model on a down-stream task to be able to use it for predictions and inference.\n"
     ]
    },
    {
     "data": {
      "application/vnd.plotly.v1+json": {
       "config": {
        "plotlyServerURL": "https://plot.ly"
       },
       "data": [
        {
         "hovertemplate": "x=%{x}<br>y=%{y}<br>Título=%{text}<extra></extra>",
         "legendgroup": "",
         "marker": {
          "color": "#000001",
          "symbol": "circle"
         },
         "mode": "markers+text",
         "name": "",
         "orientation": "v",
         "showlegend": false,
         "text": [
          "Alma luz",
          "A lucidez perigosa",
          "A perfeição",
          "Dá-me a tua mão",
          "Eu",
          "Mão",
          "Mas há a vida",
          "Meu Deus, me dê a coragem",
          "Minha alma tem o peso da luz",
          "Não te amo mais",
          "Nossa truculência",
          "Quero escrever o borrão vermelho de sangue",
          "Solidão",
          "Sonhe",
          "Sou",
          "Tentação"
         ],
         "textposition": "top center",
         "type": "scatter",
         "x": {
          "bdata": "JRoTPyMViL4gguu904DXO+npML6EDK29f1BVvtdwwD3nzgs/ovZGvXrcPz3mgUi925pyPsC9lL5xMM291owuvg==",
          "dtype": "f4"
         },
         "xaxis": "x",
         "y": {
          "bdata": "Y1dwPVhEOD4mqX89D9kHvlF55D2wacO+HlP2vm1MJj4trQs9svlavtWAhz4/1FY+Dpd/vncw4z0G/Wm8GK6OPg==",
          "dtype": "f4"
         },
         "yaxis": "y"
        }
       ],
       "layout": {
        "legend": {
         "tracegroupgap": 0
        },
        "template": {
         "data": {
          "candlestick": [
           {
            "decreasing": {
             "line": {
              "color": "#000033"
             }
            },
            "increasing": {
             "line": {
              "color": "#000032"
             }
            },
            "type": "candlestick"
           }
          ],
          "contour": [
           {
            "colorscale": [
             [
              0,
              "#000011"
             ],
             [
              0.1111111111111111,
              "#000012"
             ],
             [
              0.2222222222222222,
              "#000013"
             ],
             [
              0.3333333333333333,
              "#000014"
             ],
             [
              0.4444444444444444,
              "#000015"
             ],
             [
              0.5555555555555556,
              "#000016"
             ],
             [
              0.6666666666666666,
              "#000017"
             ],
             [
              0.7777777777777778,
              "#000018"
             ],
             [
              0.8888888888888888,
              "#000019"
             ],
             [
              1,
              "#000020"
             ]
            ],
            "type": "contour"
           }
          ],
          "contourcarpet": [
           {
            "colorscale": [
             [
              0,
              "#000011"
             ],
             [
              0.1111111111111111,
              "#000012"
             ],
             [
              0.2222222222222222,
              "#000013"
             ],
             [
              0.3333333333333333,
              "#000014"
             ],
             [
              0.4444444444444444,
              "#000015"
             ],
             [
              0.5555555555555556,
              "#000016"
             ],
             [
              0.6666666666666666,
              "#000017"
             ],
             [
              0.7777777777777778,
              "#000018"
             ],
             [
              0.8888888888888888,
              "#000019"
             ],
             [
              1,
              "#000020"
             ]
            ],
            "type": "contourcarpet"
           }
          ],
          "heatmap": [
           {
            "colorscale": [
             [
              0,
              "#000011"
             ],
             [
              0.1111111111111111,
              "#000012"
             ],
             [
              0.2222222222222222,
              "#000013"
             ],
             [
              0.3333333333333333,
              "#000014"
             ],
             [
              0.4444444444444444,
              "#000015"
             ],
             [
              0.5555555555555556,
              "#000016"
             ],
             [
              0.6666666666666666,
              "#000017"
             ],
             [
              0.7777777777777778,
              "#000018"
             ],
             [
              0.8888888888888888,
              "#000019"
             ],
             [
              1,
              "#000020"
             ]
            ],
            "type": "heatmap"
           }
          ],
          "histogram2d": [
           {
            "colorscale": [
             [
              0,
              "#000011"
             ],
             [
              0.1111111111111111,
              "#000012"
             ],
             [
              0.2222222222222222,
              "#000013"
             ],
             [
              0.3333333333333333,
              "#000014"
             ],
             [
              0.4444444444444444,
              "#000015"
             ],
             [
              0.5555555555555556,
              "#000016"
             ],
             [
              0.6666666666666666,
              "#000017"
             ],
             [
              0.7777777777777778,
              "#000018"
             ],
             [
              0.8888888888888888,
              "#000019"
             ],
             [
              1,
              "#000020"
             ]
            ],
            "type": "histogram2d"
           }
          ],
          "icicle": [
           {
            "textfont": {
             "color": "white"
            },
            "type": "icicle"
           }
          ],
          "sankey": [
           {
            "textfont": {
             "color": "#000036"
            },
            "type": "sankey"
           }
          ],
          "scatter": [
           {
            "marker": {
             "line": {
              "width": 0
             }
            },
            "type": "scatter"
           }
          ],
          "table": [
           {
            "cells": {
             "fill": {
              "color": "#000038"
             },
             "font": {
              "color": "#000037"
             },
             "line": {
              "color": "#000039"
             }
            },
            "header": {
             "fill": {
              "color": "#000040"
             },
             "font": {
              "color": "#000036"
             },
             "line": {
              "color": "#000039"
             }
            },
            "type": "table"
           }
          ],
          "waterfall": [
           {
            "connector": {
             "line": {
              "color": "#000036",
              "width": 2
             }
            },
            "decreasing": {
             "marker": {
              "color": "#000033"
             }
            },
            "increasing": {
             "marker": {
              "color": "#000032"
             }
            },
            "totals": {
             "marker": {
              "color": "#000034"
             }
            },
            "type": "waterfall"
           }
          ]
         },
         "layout": {
          "coloraxis": {
           "colorscale": [
            [
             0,
             "#000011"
            ],
            [
             0.1111111111111111,
             "#000012"
            ],
            [
             0.2222222222222222,
             "#000013"
            ],
            [
             0.3333333333333333,
             "#000014"
            ],
            [
             0.4444444444444444,
             "#000015"
            ],
            [
             0.5555555555555556,
             "#000016"
            ],
            [
             0.6666666666666666,
             "#000017"
            ],
            [
             0.7777777777777778,
             "#000018"
            ],
            [
             0.8888888888888888,
             "#000019"
            ],
            [
             1,
             "#000020"
            ]
           ]
          },
          "colorscale": {
           "diverging": [
            [
             0,
             "#000021"
            ],
            [
             0.1,
             "#000022"
            ],
            [
             0.2,
             "#000023"
            ],
            [
             0.3,
             "#000024"
            ],
            [
             0.4,
             "#000025"
            ],
            [
             0.5,
             "#000026"
            ],
            [
             0.6,
             "#000027"
            ],
            [
             0.7,
             "#000028"
            ],
            [
             0.8,
             "#000029"
            ],
            [
             0.9,
             "#000030"
            ],
            [
             1,
             "#000031"
            ]
           ],
           "sequential": [
            [
             0,
             "#000011"
            ],
            [
             0.1111111111111111,
             "#000012"
            ],
            [
             0.2222222222222222,
             "#000013"
            ],
            [
             0.3333333333333333,
             "#000014"
            ],
            [
             0.4444444444444444,
             "#000015"
            ],
            [
             0.5555555555555556,
             "#000016"
            ],
            [
             0.6666666666666666,
             "#000017"
            ],
            [
             0.7777777777777778,
             "#000018"
            ],
            [
             0.8888888888888888,
             "#000019"
            ],
            [
             1,
             "#000020"
            ]
           ],
           "sequentialminus": [
            [
             0,
             "#000011"
            ],
            [
             0.1111111111111111,
             "#000012"
            ],
            [
             0.2222222222222222,
             "#000013"
            ],
            [
             0.3333333333333333,
             "#000014"
            ],
            [
             0.4444444444444444,
             "#000015"
            ],
            [
             0.5555555555555556,
             "#000016"
            ],
            [
             0.6666666666666666,
             "#000017"
            ],
            [
             0.7777777777777778,
             "#000018"
            ],
            [
             0.8888888888888888,
             "#000019"
            ],
            [
             1,
             "#000020"
            ]
           ]
          },
          "colorway": [
           "#000001",
           "#000002",
           "#000003",
           "#000004",
           "#000005",
           "#000006",
           "#000007",
           "#000008",
           "#000009",
           "#000010"
          ]
         }
        },
        "title": {
         "text": "PCA dos poemas de Clarice Lispector"
        },
        "xaxis": {
         "anchor": "y",
         "domain": [
          0,
          1
         ],
         "title": {
          "text": "x"
         }
        },
        "yaxis": {
         "anchor": "x",
         "domain": [
          0,
          1
         ],
         "title": {
          "text": "y"
         }
        }
       }
      }
     },
     "metadata": {},
     "output_type": "display_data"
    }
   ],
   "source": [
    "\n",
    "# Instancia o visualizador de embeddings\n",
    "visualizer = EmbeddingVisualizer()\n",
    "model_name = \"MiniLM-L6\"\n",
    "# Embeddings dos poemas completos\n",
    "titulos = list(poemas.keys())\n",
    "textos = list(poemas.values())\n",
    "embeddings = visualizer.compute_embeddings(textos, model_name)\n",
    "# Redução para 2D com PCA\n",
    "coords = visualizer.reduce_dimensions(embeddings, method=\"pca\", n_components=2)\n",
    "df = pd.DataFrame(coords, columns=[\"x\", \"y\"])\n",
    "df[\"Título\"] = titulos\n",
    "fig = px.scatter(df, x=\"x\", y=\"y\", text=\"Título\", title=\"PCA dos poemas de Clarice Lispector\")\n",
    "fig.update_traces(textposition=\"top center\")\n",
    "fig.show()\n"
   ]
  },
  {
   "cell_type": "markdown",
   "id": "00446278",
   "metadata": {},
   "source": [
    "## 4. Medida de criatividade baseada na variabilidade semântica"
   ]
  },
  {
   "cell_type": "code",
   "execution_count": 4,
   "id": "1e4e8d4a",
   "metadata": {},
   "outputs": [
    {
     "data": {
      "application/vnd.plotly.v1+json": {
       "config": {
        "plotlyServerURL": "https://plot.ly"
       },
       "data": [
        {
         "hovertemplate": "Título=%{x}<br>Criatividade=%{y}<extra></extra>",
         "legendgroup": "",
         "marker": {
          "color": "#000001",
          "pattern": {
           "shape": ""
          }
         },
         "name": "",
         "orientation": "v",
         "showlegend": false,
         "textposition": "auto",
         "type": "bar",
         "x": [
          "Solidão",
          "Sou",
          "A lucidez perigosa",
          "Mas há a vida",
          "Dá-me a tua mão",
          "Nossa truculência",
          "Eu",
          "Quero escrever o borrão vermelho de sangue",
          "A perfeição",
          "Não te amo mais",
          "Meu Deus, me dê a coragem",
          "Mão",
          "Sonhe",
          "Alma luz",
          "Minha alma tem o peso da luz",
          "Tentação"
         ],
         "xaxis": "x",
         "y": {
          "bdata": "AAAAQOoz5T8AAABAeQXkPwAAACDEzOI/AAAA4Jy84j8AAABgkY7iPwAAAKAJb+I/AAAA4GRn4j8AAACgSvPhPwAAAIAtY+E/AAAAwOhf4T8AAACgKmbgPwAAAKDDD+A/AAAAALoH4D8AAACgS53dPwAAAEBPc9o/AAAAAAAAAAA=",
          "dtype": "f8"
         },
         "yaxis": "y"
        }
       ],
       "layout": {
        "barmode": "relative",
        "legend": {
         "tracegroupgap": 0
        },
        "template": {
         "data": {
          "candlestick": [
           {
            "decreasing": {
             "line": {
              "color": "#000033"
             }
            },
            "increasing": {
             "line": {
              "color": "#000032"
             }
            },
            "type": "candlestick"
           }
          ],
          "contour": [
           {
            "colorscale": [
             [
              0,
              "#000011"
             ],
             [
              0.1111111111111111,
              "#000012"
             ],
             [
              0.2222222222222222,
              "#000013"
             ],
             [
              0.3333333333333333,
              "#000014"
             ],
             [
              0.4444444444444444,
              "#000015"
             ],
             [
              0.5555555555555556,
              "#000016"
             ],
             [
              0.6666666666666666,
              "#000017"
             ],
             [
              0.7777777777777778,
              "#000018"
             ],
             [
              0.8888888888888888,
              "#000019"
             ],
             [
              1,
              "#000020"
             ]
            ],
            "type": "contour"
           }
          ],
          "contourcarpet": [
           {
            "colorscale": [
             [
              0,
              "#000011"
             ],
             [
              0.1111111111111111,
              "#000012"
             ],
             [
              0.2222222222222222,
              "#000013"
             ],
             [
              0.3333333333333333,
              "#000014"
             ],
             [
              0.4444444444444444,
              "#000015"
             ],
             [
              0.5555555555555556,
              "#000016"
             ],
             [
              0.6666666666666666,
              "#000017"
             ],
             [
              0.7777777777777778,
              "#000018"
             ],
             [
              0.8888888888888888,
              "#000019"
             ],
             [
              1,
              "#000020"
             ]
            ],
            "type": "contourcarpet"
           }
          ],
          "heatmap": [
           {
            "colorscale": [
             [
              0,
              "#000011"
             ],
             [
              0.1111111111111111,
              "#000012"
             ],
             [
              0.2222222222222222,
              "#000013"
             ],
             [
              0.3333333333333333,
              "#000014"
             ],
             [
              0.4444444444444444,
              "#000015"
             ],
             [
              0.5555555555555556,
              "#000016"
             ],
             [
              0.6666666666666666,
              "#000017"
             ],
             [
              0.7777777777777778,
              "#000018"
             ],
             [
              0.8888888888888888,
              "#000019"
             ],
             [
              1,
              "#000020"
             ]
            ],
            "type": "heatmap"
           }
          ],
          "histogram2d": [
           {
            "colorscale": [
             [
              0,
              "#000011"
             ],
             [
              0.1111111111111111,
              "#000012"
             ],
             [
              0.2222222222222222,
              "#000013"
             ],
             [
              0.3333333333333333,
              "#000014"
             ],
             [
              0.4444444444444444,
              "#000015"
             ],
             [
              0.5555555555555556,
              "#000016"
             ],
             [
              0.6666666666666666,
              "#000017"
             ],
             [
              0.7777777777777778,
              "#000018"
             ],
             [
              0.8888888888888888,
              "#000019"
             ],
             [
              1,
              "#000020"
             ]
            ],
            "type": "histogram2d"
           }
          ],
          "icicle": [
           {
            "textfont": {
             "color": "white"
            },
            "type": "icicle"
           }
          ],
          "sankey": [
           {
            "textfont": {
             "color": "#000036"
            },
            "type": "sankey"
           }
          ],
          "scatter": [
           {
            "marker": {
             "line": {
              "width": 0
             }
            },
            "type": "scatter"
           }
          ],
          "table": [
           {
            "cells": {
             "fill": {
              "color": "#000038"
             },
             "font": {
              "color": "#000037"
             },
             "line": {
              "color": "#000039"
             }
            },
            "header": {
             "fill": {
              "color": "#000040"
             },
             "font": {
              "color": "#000036"
             },
             "line": {
              "color": "#000039"
             }
            },
            "type": "table"
           }
          ],
          "waterfall": [
           {
            "connector": {
             "line": {
              "color": "#000036",
              "width": 2
             }
            },
            "decreasing": {
             "marker": {
              "color": "#000033"
             }
            },
            "increasing": {
             "marker": {
              "color": "#000032"
             }
            },
            "totals": {
             "marker": {
              "color": "#000034"
             }
            },
            "type": "waterfall"
           }
          ]
         },
         "layout": {
          "coloraxis": {
           "colorscale": [
            [
             0,
             "#000011"
            ],
            [
             0.1111111111111111,
             "#000012"
            ],
            [
             0.2222222222222222,
             "#000013"
            ],
            [
             0.3333333333333333,
             "#000014"
            ],
            [
             0.4444444444444444,
             "#000015"
            ],
            [
             0.5555555555555556,
             "#000016"
            ],
            [
             0.6666666666666666,
             "#000017"
            ],
            [
             0.7777777777777778,
             "#000018"
            ],
            [
             0.8888888888888888,
             "#000019"
            ],
            [
             1,
             "#000020"
            ]
           ]
          },
          "colorscale": {
           "diverging": [
            [
             0,
             "#000021"
            ],
            [
             0.1,
             "#000022"
            ],
            [
             0.2,
             "#000023"
            ],
            [
             0.3,
             "#000024"
            ],
            [
             0.4,
             "#000025"
            ],
            [
             0.5,
             "#000026"
            ],
            [
             0.6,
             "#000027"
            ],
            [
             0.7,
             "#000028"
            ],
            [
             0.8,
             "#000029"
            ],
            [
             0.9,
             "#000030"
            ],
            [
             1,
             "#000031"
            ]
           ],
           "sequential": [
            [
             0,
             "#000011"
            ],
            [
             0.1111111111111111,
             "#000012"
            ],
            [
             0.2222222222222222,
             "#000013"
            ],
            [
             0.3333333333333333,
             "#000014"
            ],
            [
             0.4444444444444444,
             "#000015"
            ],
            [
             0.5555555555555556,
             "#000016"
            ],
            [
             0.6666666666666666,
             "#000017"
            ],
            [
             0.7777777777777778,
             "#000018"
            ],
            [
             0.8888888888888888,
             "#000019"
            ],
            [
             1,
             "#000020"
            ]
           ],
           "sequentialminus": [
            [
             0,
             "#000011"
            ],
            [
             0.1111111111111111,
             "#000012"
            ],
            [
             0.2222222222222222,
             "#000013"
            ],
            [
             0.3333333333333333,
             "#000014"
            ],
            [
             0.4444444444444444,
             "#000015"
            ],
            [
             0.5555555555555556,
             "#000016"
            ],
            [
             0.6666666666666666,
             "#000017"
            ],
            [
             0.7777777777777778,
             "#000018"
            ],
            [
             0.8888888888888888,
             "#000019"
            ],
            [
             1,
             "#000020"
            ]
           ]
          },
          "colorway": [
           "#000001",
           "#000002",
           "#000003",
           "#000004",
           "#000005",
           "#000006",
           "#000007",
           "#000008",
           "#000009",
           "#000010"
          ]
         }
        },
        "title": {
         "text": "Medida de criatividade dos poemas"
        },
        "xaxis": {
         "anchor": "y",
         "domain": [
          0,
          1
         ],
         "title": {
          "text": "Título"
         }
        },
        "yaxis": {
         "anchor": "x",
         "domain": [
          0,
          1
         ],
         "title": {
          "text": "Criatividade"
         }
        }
       }
      }
     },
     "metadata": {},
     "output_type": "display_data"
    }
   ],
   "source": [
    "\n",
    "scores = {}\n",
    "for titulo, texto in poemas.items():\n",
    "    linhas = [l for l in texto.splitlines() if l.strip()]\n",
    "    if len(linhas) < 2:\n",
    "        scores[titulo] = 0.0\n",
    "        continue\n",
    "    emb_linhas = visualizer.compute_embeddings(linhas, model_name)\n",
    "    dists = cosine_distances(emb_linhas)\n",
    "    n = len(linhas)\n",
    "    valores = dists[np.triu_indices(n, 1)]\n",
    "    scores[titulo] = float(np.mean(valores))\n",
    "scores_df = pd.DataFrame({\"Título\": list(scores.keys()), \"Criatividade\": list(scores.values())})\n",
    "scores_df = scores_df.sort_values(\"Criatividade\", ascending=False)\n",
    "fig2 = px.bar(scores_df, x=\"Título\", y=\"Criatividade\", title=\"Medida de criatividade dos poemas\")\n",
    "fig2.show()\n"
   ]
  },
  {
   "cell_type": "code",
   "execution_count": 5,
   "id": "metrics_extra",
   "metadata": {},
   "outputs": [
    {
     "data": {
      "text/html": [
       "<div>\n",
       "<style scoped>\n",
       "    .dataframe tbody tr th:only-of-type {\n",
       "        vertical-align: middle;\n",
       "    }\n",
       "\n",
       "    .dataframe tbody tr th {\n",
       "        vertical-align: top;\n",
       "    }\n",
       "\n",
       "    .dataframe thead th {\n",
       "        text-align: right;\n",
       "    }\n",
       "</style>\n",
       "<table border=\"1\" class=\"dataframe\">\n",
       "  <thead>\n",
       "    <tr style=\"text-align: right;\">\n",
       "      <th></th>\n",
       "      <th>Título</th>\n",
       "      <th>Distância Sequencial Média</th>\n",
       "      <th>Diversidade Lexical</th>\n",
       "      <th>Complexidade Sintática</th>\n",
       "    </tr>\n",
       "  </thead>\n",
       "  <tbody>\n",
       "    <tr>\n",
       "      <th>0</th>\n",
       "      <td>Alma luz</td>\n",
       "      <td>0.430193</td>\n",
       "      <td>0.584615</td>\n",
       "      <td>5.909091</td>\n",
       "    </tr>\n",
       "    <tr>\n",
       "      <th>1</th>\n",
       "      <td>A lucidez perigosa</td>\n",
       "      <td>0.540589</td>\n",
       "      <td>0.770992</td>\n",
       "      <td>5.038462</td>\n",
       "    </tr>\n",
       "    <tr>\n",
       "      <th>2</th>\n",
       "      <td>A perfeição</td>\n",
       "      <td>0.493430</td>\n",
       "      <td>0.616279</td>\n",
       "      <td>6.142857</td>\n",
       "    </tr>\n",
       "    <tr>\n",
       "      <th>3</th>\n",
       "      <td>Dá-me a tua mão</td>\n",
       "      <td>0.543674</td>\n",
       "      <td>0.588235</td>\n",
       "      <td>6.263158</td>\n",
       "    </tr>\n",
       "    <tr>\n",
       "      <th>4</th>\n",
       "      <td>Eu</td>\n",
       "      <td>0.547932</td>\n",
       "      <td>0.797872</td>\n",
       "      <td>4.700000</td>\n",
       "    </tr>\n",
       "    <tr>\n",
       "      <th>5</th>\n",
       "      <td>Mão</td>\n",
       "      <td>0.460978</td>\n",
       "      <td>0.750000</td>\n",
       "      <td>6.500000</td>\n",
       "    </tr>\n",
       "    <tr>\n",
       "      <th>6</th>\n",
       "      <td>Mas há a vida</td>\n",
       "      <td>0.571751</td>\n",
       "      <td>0.851852</td>\n",
       "      <td>3.857143</td>\n",
       "    </tr>\n",
       "    <tr>\n",
       "      <th>7</th>\n",
       "      <td>Meu Deus, me dê a coragem</td>\n",
       "      <td>0.492913</td>\n",
       "      <td>0.565517</td>\n",
       "      <td>6.904762</td>\n",
       "    </tr>\n",
       "    <tr>\n",
       "      <th>8</th>\n",
       "      <td>Minha alma tem o peso da luz</td>\n",
       "      <td>0.372885</td>\n",
       "      <td>0.600000</td>\n",
       "      <td>6.500000</td>\n",
       "    </tr>\n",
       "    <tr>\n",
       "      <th>9</th>\n",
       "      <td>Não te amo mais</td>\n",
       "      <td>0.554692</td>\n",
       "      <td>0.831169</td>\n",
       "      <td>4.812500</td>\n",
       "    </tr>\n",
       "    <tr>\n",
       "      <th>10</th>\n",
       "      <td>Nossa truculência</td>\n",
       "      <td>0.572769</td>\n",
       "      <td>0.682171</td>\n",
       "      <td>4.777778</td>\n",
       "    </tr>\n",
       "    <tr>\n",
       "      <th>11</th>\n",
       "      <td>Quero escrever o borrão vermelho de sangue</td>\n",
       "      <td>0.545484</td>\n",
       "      <td>0.723214</td>\n",
       "      <td>5.090909</td>\n",
       "    </tr>\n",
       "    <tr>\n",
       "      <th>12</th>\n",
       "      <td>Solidão</td>\n",
       "      <td>0.628480</td>\n",
       "      <td>0.823529</td>\n",
       "      <td>5.666667</td>\n",
       "    </tr>\n",
       "    <tr>\n",
       "      <th>13</th>\n",
       "      <td>Sonhe</td>\n",
       "      <td>0.468144</td>\n",
       "      <td>0.704082</td>\n",
       "      <td>7.538462</td>\n",
       "    </tr>\n",
       "    <tr>\n",
       "      <th>14</th>\n",
       "      <td>Sou</td>\n",
       "      <td>0.585415</td>\n",
       "      <td>0.857143</td>\n",
       "      <td>5.727273</td>\n",
       "    </tr>\n",
       "    <tr>\n",
       "      <th>15</th>\n",
       "      <td>Tentação</td>\n",
       "      <td>0.000000</td>\n",
       "      <td>0.627680</td>\n",
       "      <td>513.000000</td>\n",
       "    </tr>\n",
       "  </tbody>\n",
       "</table>\n",
       "</div>"
      ],
      "text/plain": [
       "                                        Título  Distância Sequencial Média  \\\n",
       "0                                     Alma luz                    0.430193   \n",
       "1                           A lucidez perigosa                    0.540589   \n",
       "2                                  A perfeição                    0.493430   \n",
       "3                              Dá-me a tua mão                    0.543674   \n",
       "4                                           Eu                    0.547932   \n",
       "5                                          Mão                    0.460978   \n",
       "6                                Mas há a vida                    0.571751   \n",
       "7                    Meu Deus, me dê a coragem                    0.492913   \n",
       "8                 Minha alma tem o peso da luz                    0.372885   \n",
       "9                              Não te amo mais                    0.554692   \n",
       "10                           Nossa truculência                    0.572769   \n",
       "11  Quero escrever o borrão vermelho de sangue                    0.545484   \n",
       "12                                     Solidão                    0.628480   \n",
       "13                                       Sonhe                    0.468144   \n",
       "14                                         Sou                    0.585415   \n",
       "15                                    Tentação                    0.000000   \n",
       "\n",
       "    Diversidade Lexical  Complexidade Sintática  \n",
       "0              0.584615                5.909091  \n",
       "1              0.770992                5.038462  \n",
       "2              0.616279                6.142857  \n",
       "3              0.588235                6.263158  \n",
       "4              0.797872                4.700000  \n",
       "5              0.750000                6.500000  \n",
       "6              0.851852                3.857143  \n",
       "7              0.565517                6.904762  \n",
       "8              0.600000                6.500000  \n",
       "9              0.831169                4.812500  \n",
       "10             0.682171                4.777778  \n",
       "11             0.723214                5.090909  \n",
       "12             0.823529                5.666667  \n",
       "13             0.704082                7.538462  \n",
       "14             0.857143                5.727273  \n",
       "15             0.627680              513.000000  "
      ]
     },
     "execution_count": 5,
     "metadata": {},
     "output_type": "execute_result"
    }
   ],
   "source": [
    "# Métricas adicionais de criatividade\n",
    "# Métrica 1: Distância Sequencial Média - distância semântica média entre linhas consecutivas de um poema.\n",
    "dist_seq_scores = {}\n",
    "for titulo, texto in poemas.items():\n",
    "    linhas = [l for l in texto.splitlines() if l.strip()]\n",
    "    if len(linhas) < 2:\n",
    "        dist_seq_scores[titulo] = 0.0\n",
    "    else:\n",
    "        emb_linhas = visualizer.compute_embeddings(linhas, model_name)\n",
    "        seq_dists = [cosine_distances(emb_linhas[i:i+1], emb_linhas[i+1:i+2])[0][0] for i in range(len(linhas)-1)]\n",
    "        dist_seq_scores[titulo] = float(np.mean(seq_dists))\n",
    "\n",
    "# Métrica 2: Diversidade Lexical - proporção de palavras únicas em relação ao total de palavras, indicando originalidade lexical.\n",
    "lexical_diversity_scores = {}\n",
    "for titulo, texto in poemas.items():\n",
    "    palavras = [w for line in texto.splitlines() for w in line.split()]\n",
    "    if len(palavras) == 0:\n",
    "        lexical_diversity_scores[titulo] = 0.0\n",
    "    else:\n",
    "        lexical_diversity_scores[titulo] = float(len(set(palavras)) / len(palavras))\n",
    "\n",
    "# Métrica 3: Complexidade Sintática - média de palavras por linha, sugerindo complexidade estrutural.\n",
    "syntactic_complexity_scores = {}\n",
    "for titulo, texto in poemas.items():\n",
    "    linhas = [l for l in texto.splitlines() if l.strip()]\n",
    "    if len(linhas) == 0:\n",
    "        syntactic_complexity_scores[titulo] = 0.0\n",
    "    else:\n",
    "        syntactic_complexity_scores[titulo] = float(np.mean([len(l.split()) for l in linhas]))\n",
    "\n",
    "metricas_df = pd.DataFrame({\n",
    "    \"Título\": list(poemas.keys()),\n",
    "    \"Distância Sequencial Média\": [dist_seq_scores[t] for t in poemas.keys()],\n",
    "    \"Diversidade Lexical\": [lexical_diversity_scores[t] for t in poemas.keys()],\n",
    "    \"Complexidade Sintática\": [syntactic_complexity_scores[t] for t in poemas.keys()]\n",
    "})\n",
    "metricas_df\n"
   ]
  },
  {
   "cell_type": "code",
   "execution_count": 6,
   "id": "metrics_embedding",
   "metadata": {},
   "outputs": [
    {
     "name": "stderr",
     "output_type": "stream",
     "text": [
      "huggingface/tokenizers: The current process just got forked, after parallelism has already been used. Disabling parallelism to avoid deadlocks...\n",
      "To disable this warning, you can either:\n",
      "\t- Avoid using `tokenizers` before the fork if possible\n",
      "\t- Explicitly set the environment variable TOKENIZERS_PARALLELISM=(true | false)\n"
     ]
    },
    {
     "data": {
      "text/html": [
       "<div>\n",
       "<style scoped>\n",
       "    .dataframe tbody tr th:only-of-type {\n",
       "        vertical-align: middle;\n",
       "    }\n",
       "\n",
       "    .dataframe tbody tr th {\n",
       "        vertical-align: top;\n",
       "    }\n",
       "\n",
       "    .dataframe thead th {\n",
       "        text-align: right;\n",
       "    }\n",
       "</style>\n",
       "<table border=\"1\" class=\"dataframe\">\n",
       "  <thead>\n",
       "    <tr style=\"text-align: right;\">\n",
       "      <th></th>\n",
       "      <th>Título</th>\n",
       "      <th>Silhueta de Cluster</th>\n",
       "      <th>Distância Média ao Centroide</th>\n",
       "      <th>Mudança Semântica Máxima</th>\n",
       "    </tr>\n",
       "  </thead>\n",
       "  <tbody>\n",
       "    <tr>\n",
       "      <th>0</th>\n",
       "      <td>Alma luz</td>\n",
       "      <td>0.157659</td>\n",
       "      <td>0.238856</td>\n",
       "      <td>0.670840</td>\n",
       "    </tr>\n",
       "    <tr>\n",
       "      <th>1</th>\n",
       "      <td>A lucidez perigosa</td>\n",
       "      <td>0.038862</td>\n",
       "      <td>0.340379</td>\n",
       "      <td>0.922237</td>\n",
       "    </tr>\n",
       "    <tr>\n",
       "      <th>2</th>\n",
       "      <td>A perfeição</td>\n",
       "      <td>0.054295</td>\n",
       "      <td>0.296115</td>\n",
       "      <td>0.755444</td>\n",
       "    </tr>\n",
       "    <tr>\n",
       "      <th>3</th>\n",
       "      <td>Dá-me a tua mão</td>\n",
       "      <td>0.026599</td>\n",
       "      <td>0.328719</td>\n",
       "      <td>0.810112</td>\n",
       "    </tr>\n",
       "    <tr>\n",
       "      <th>4</th>\n",
       "      <td>Eu</td>\n",
       "      <td>0.018774</td>\n",
       "      <td>0.326476</td>\n",
       "      <td>0.760088</td>\n",
       "    </tr>\n",
       "    <tr>\n",
       "      <th>5</th>\n",
       "      <td>Mão</td>\n",
       "      <td>0.014807</td>\n",
       "      <td>0.251123</td>\n",
       "      <td>0.643918</td>\n",
       "    </tr>\n",
       "    <tr>\n",
       "      <th>6</th>\n",
       "      <td>Mas há a vida</td>\n",
       "      <td>0.086972</td>\n",
       "      <td>0.294222</td>\n",
       "      <td>0.828436</td>\n",
       "    </tr>\n",
       "    <tr>\n",
       "      <th>7</th>\n",
       "      <td>Meu Deus, me dê a coragem</td>\n",
       "      <td>0.044994</td>\n",
       "      <td>0.284506</td>\n",
       "      <td>0.730720</td>\n",
       "    </tr>\n",
       "    <tr>\n",
       "      <th>8</th>\n",
       "      <td>Minha alma tem o peso da luz</td>\n",
       "      <td>0.072642</td>\n",
       "      <td>0.207510</td>\n",
       "      <td>0.621746</td>\n",
       "    </tr>\n",
       "    <tr>\n",
       "      <th>9</th>\n",
       "      <td>Não te amo mais</td>\n",
       "      <td>0.053910</td>\n",
       "      <td>0.299302</td>\n",
       "      <td>0.710117</td>\n",
       "    </tr>\n",
       "    <tr>\n",
       "      <th>10</th>\n",
       "      <td>Nossa truculência</td>\n",
       "      <td>0.038519</td>\n",
       "      <td>0.332706</td>\n",
       "      <td>0.839221</td>\n",
       "    </tr>\n",
       "    <tr>\n",
       "      <th>11</th>\n",
       "      <td>Quero escrever o borrão vermelho de sangue</td>\n",
       "      <td>0.026590</td>\n",
       "      <td>0.318422</td>\n",
       "      <td>0.766358</td>\n",
       "    </tr>\n",
       "    <tr>\n",
       "      <th>12</th>\n",
       "      <td>Solidão</td>\n",
       "      <td>0.121020</td>\n",
       "      <td>0.330789</td>\n",
       "      <td>0.962475</td>\n",
       "    </tr>\n",
       "    <tr>\n",
       "      <th>13</th>\n",
       "      <td>Sonhe</td>\n",
       "      <td>0.022719</td>\n",
       "      <td>0.266794</td>\n",
       "      <td>0.724921</td>\n",
       "    </tr>\n",
       "    <tr>\n",
       "      <th>14</th>\n",
       "      <td>Sou</td>\n",
       "      <td>0.089152</td>\n",
       "      <td>0.343334</td>\n",
       "      <td>1.023370</td>\n",
       "    </tr>\n",
       "    <tr>\n",
       "      <th>15</th>\n",
       "      <td>Tentação</td>\n",
       "      <td>0.000000</td>\n",
       "      <td>0.000000</td>\n",
       "      <td>0.000000</td>\n",
       "    </tr>\n",
       "  </tbody>\n",
       "</table>\n",
       "</div>"
      ],
      "text/plain": [
       "                                        Título  Silhueta de Cluster  \\\n",
       "0                                     Alma luz             0.157659   \n",
       "1                           A lucidez perigosa             0.038862   \n",
       "2                                  A perfeição             0.054295   \n",
       "3                              Dá-me a tua mão             0.026599   \n",
       "4                                           Eu             0.018774   \n",
       "5                                          Mão             0.014807   \n",
       "6                                Mas há a vida             0.086972   \n",
       "7                    Meu Deus, me dê a coragem             0.044994   \n",
       "8                 Minha alma tem o peso da luz             0.072642   \n",
       "9                              Não te amo mais             0.053910   \n",
       "10                           Nossa truculência             0.038519   \n",
       "11  Quero escrever o borrão vermelho de sangue             0.026590   \n",
       "12                                     Solidão             0.121020   \n",
       "13                                       Sonhe             0.022719   \n",
       "14                                         Sou             0.089152   \n",
       "15                                    Tentação             0.000000   \n",
       "\n",
       "    Distância Média ao Centroide  Mudança Semântica Máxima  \n",
       "0                       0.238856                  0.670840  \n",
       "1                       0.340379                  0.922237  \n",
       "2                       0.296115                  0.755444  \n",
       "3                       0.328719                  0.810112  \n",
       "4                       0.326476                  0.760088  \n",
       "5                       0.251123                  0.643918  \n",
       "6                       0.294222                  0.828436  \n",
       "7                       0.284506                  0.730720  \n",
       "8                       0.207510                  0.621746  \n",
       "9                       0.299302                  0.710117  \n",
       "10                      0.332706                  0.839221  \n",
       "11                      0.318422                  0.766358  \n",
       "12                      0.330789                  0.962475  \n",
       "13                      0.266794                  0.724921  \n",
       "14                      0.343334                  1.023370  \n",
       "15                      0.000000                  0.000000  "
      ]
     },
     "execution_count": 6,
     "metadata": {},
     "output_type": "execute_result"
    }
   ],
   "source": [
    "# Métricas de criatividade baseadas em embeddings (clusters e dispersão)\n",
    "from sklearn.cluster import KMeans\n",
    "from sklearn.metrics import silhouette_score\n",
    "# Computa métricas adicionais usando embeddings diretamente\n",
    "embed_silhouette = {}\n",
    "embed_mean_centroid = {}\n",
    "embed_max_pairwise = {}\n",
    "for titulo, texto in poemas.items():\n",
    "    linhas = [l for l in texto.splitlines() if l.strip()]\n",
    "    if len(linhas) < 2:\n",
    "        embed_silhouette[titulo] = 0.0\n",
    "        embed_mean_centroid[titulo] = 0.0\n",
    "        embed_max_pairwise[titulo] = 0.0\n",
    "    else:\n",
    "        embs = visualizer.compute_embeddings(linhas, model_name)\n",
    "        # Silhueta de Cluster\n",
    "        n_clusters = 2 if len(linhas) >= 3 else 2\n",
    "        labels = KMeans(n_clusters=n_clusters, random_state=0).fit_predict(embs)\n",
    "        embed_silhouette[titulo] = float(silhouette_score(embs, labels))\n",
    "        # Distância Média ao Centroide\n",
    "        centroid = embs.mean(axis=0, keepdims=True)\n",
    "        dists_cent = cosine_distances(embs, centroid).flatten()\n",
    "        embed_mean_centroid[titulo] = float(dists_cent.mean())\n",
    "        # Mudança Semântica Máxima\n",
    "        dists = cosine_distances(embs)\n",
    "        i,j = np.triu_indices_from(dists, k=1)\n",
    "        embed_max_pairwise[titulo] = float(dists[i,j].max())\n",
    "\n",
    "metricas_embed_df = pd.DataFrame({\n",
    "    'Título': list(poemas.keys()),\n",
    "    'Silhueta de Cluster': [embed_silhouette[t] for t in poemas.keys()],\n",
    "    'Distância Média ao Centroide': [embed_mean_centroid[t] for t in poemas.keys()],\n",
    "    'Mudança Semântica Máxima': [embed_max_pairwise[t] for t in poemas.keys()]\n",
    "})\n",
    "metricas_embed_df\n"
   ]
  },
  {
   "cell_type": "code",
   "execution_count": 7,
   "id": "fb83e997",
   "metadata": {},
   "outputs": [
    {
     "data": {
      "application/vnd.plotly.v1+json": {
       "config": {
        "plotlyServerURL": "https://plot.ly"
       },
       "data": [
        {
         "hovertemplate": "cluster=0<br>poema=Alma luz<br>x=%{x}<br>y=%{y}<extra></extra>",
         "legendgroup": "0",
         "marker": {
          "color": "#000001",
          "symbol": "circle"
         },
         "mode": "markers",
         "name": "0",
         "orientation": "v",
         "showlegend": true,
         "type": "scatter",
         "x": {
          "bdata": "GE2rvDO0Cj75WNU8KKqTvqEFjz67dbE+FXSaPvGRuLshW6M+",
          "dtype": "f4"
         },
         "xaxis": "x",
         "y": {
          "bdata": "dQwCPw0iND41RxO9B+yjvhuuzr2Zw5C9wYoXPtAKAL8s2t08",
          "dtype": "f4"
         },
         "yaxis": "y"
        },
        {
         "hovertemplate": "cluster=0<br>poema=A lucidez perigosa<br>x=%{x}<br>y=%{y}<extra></extra>",
         "legendgroup": "0",
         "marker": {
          "color": "#000001",
          "symbol": "circle"
         },
         "mode": "markers",
         "name": "0",
         "orientation": "v",
         "showlegend": false,
         "type": "scatter",
         "x": {
          "bdata": "cbDMvHRrJ778Qw++sybJPYmReL5C1QE+5hhXPax/Sr7FuJ69RIl4vpaKwr4b4J294aYNvbDOQj4Bgps8",
          "dtype": "f4"
         },
         "xaxis": "x2",
         "y": {
          "bdata": "NXYMPbUWlD0kIr49j9CTPhggTz5werq9QWoLPpCf7j39WPE9UFAevmB+YzxHTZ4972PwPfJVO75SfCw+",
          "dtype": "f4"
         },
         "yaxis": "y2"
        },
        {
         "hovertemplate": "cluster=0<br>poema=A perfeição<br>x=%{x}<br>y=%{y}<extra></extra>",
         "legendgroup": "0",
         "marker": {
          "color": "#000001",
          "symbol": "circle"
         },
         "mode": "markers",
         "name": "0",
         "orientation": "v",
         "showlegend": false,
         "type": "scatter",
         "x": {
          "bdata": "4onWvk9N/r3K1oq+fo6Mvlbtgb6kVH6+JHvbPQ==",
          "dtype": "f4"
         },
         "xaxis": "x3",
         "y": {
          "bdata": "zHXNvZmbIb5k0lO+nMB9vbdQ07rngTg+niacPg==",
          "dtype": "f4"
         },
         "yaxis": "y3"
        },
        {
         "hovertemplate": "cluster=0<br>poema=Dá-me a tua mão<br>x=%{x}<br>y=%{y}<extra></extra>",
         "legendgroup": "0",
         "marker": {
          "color": "#000001",
          "symbol": "circle"
         },
         "mode": "markers",
         "name": "0",
         "orientation": "v",
         "showlegend": false,
         "type": "scatter",
         "x": {
          "bdata": "7oY5PkAS+L0V9YQ+xHImvgoSBD8Y51U+aTwUvv9tgD2GUAg/CCW7vUAcET4=",
          "dtype": "f4"
         },
         "xaxis": "x4",
         "y": {
          "bdata": "ZsGzvlWITrzqwDM94D2evaH9gD5sVLg9EJXjPfmGwL6Qwmk+4PeLPR1MIz4=",
          "dtype": "f4"
         },
         "yaxis": "y4"
        },
        {
         "hovertemplate": "cluster=0<br>poema=Eu<br>x=%{x}<br>y=%{y}<extra></extra>",
         "legendgroup": "0",
         "marker": {
          "color": "#000001",
          "symbol": "circle"
         },
         "mode": "markers",
         "name": "0",
         "orientation": "v",
         "showlegend": false,
         "type": "scatter",
         "x": {
          "bdata": "kD6kOoBSi77WLuc9zTEgPlefojylpLc++lIKP+bQvT1gx4++1KncvrX1UL0=",
          "dtype": "f4"
         },
         "xaxis": "x5",
         "y": {
          "bdata": "FBA0vvB+aL5H//a8QN3aPODbIT50pXy+UNqHvWmVgL4wToe+uFYXvueIMT4=",
          "dtype": "f4"
         },
         "yaxis": "y5"
        },
        {
         "hovertemplate": "cluster=0<br>poema=Mão<br>x=%{x}<br>y=%{y}<extra></extra>",
         "legendgroup": "0",
         "marker": {
          "color": "#000001",
          "symbol": "circle"
         },
         "mode": "markers",
         "name": "0",
         "orientation": "v",
         "showlegend": false,
         "type": "scatter",
         "x": {
          "bdata": "HPH/vt85kL35Mgg+FjrRvRhkpD4=",
          "dtype": "f4"
         },
         "xaxis": "x6",
         "y": {
          "bdata": "lD82PY6oCT4fjqq+/j9EvhcVB78=",
          "dtype": "f4"
         },
         "yaxis": "y6"
        },
        {
         "hovertemplate": "cluster=0<br>poema=Mas há a vida<br>x=%{x}<br>y=%{y}<extra></extra>",
         "legendgroup": "0",
         "marker": {
          "color": "#000001",
          "symbol": "circle"
         },
         "mode": "markers",
         "name": "0",
         "orientation": "v",
         "showlegend": false,
         "type": "scatter",
         "x": {
          "bdata": "6+6KvpGsqL53Pwu/",
          "dtype": "f4"
         },
         "xaxis": "x7",
         "y": {
          "bdata": "ctsQvhU/vD49t7I9",
          "dtype": "f4"
         },
         "yaxis": "y7"
        },
        {
         "hovertemplate": "cluster=0<br>poema=Meu Deus, me dê a coragem<br>x=%{x}<br>y=%{y}<extra></extra>",
         "legendgroup": "0",
         "marker": {
          "color": "#000001",
          "symbol": "circle"
         },
         "mode": "markers",
         "name": "0",
         "orientation": "v",
         "showlegend": false,
         "type": "scatter",
         "x": {
          "bdata": "q7jkvlY2U75Brtm+Ej9evu+cPz4bcHE+J4VwvnAPXr4=",
          "dtype": "f4"
         },
         "xaxis": "x8",
         "y": {
          "bdata": "xqzvPkNEyb6DGsI8HdSEvX8pjz4gpY8+14fPPtQjoL0=",
          "dtype": "f4"
         },
         "yaxis": "y8"
        },
        {
         "hovertemplate": "cluster=0<br>poema=Minha alma tem o peso da luz<br>x=%{x}<br>y=%{y}<extra></extra>",
         "legendgroup": "0",
         "marker": {
          "color": "#000001",
          "symbol": "circle"
         },
         "mode": "markers",
         "name": "0",
         "orientation": "v",
         "showlegend": false,
         "type": "scatter",
         "x": {
          "bdata": "XcaqPv0EVj5FwOo8IQ31vsQkij3VQgE+YMGPPstb0b6+HUk+",
          "dtype": "f4"
         },
         "xaxis": "x9",
         "y": {
          "bdata": "cH67PmpyJj3utwG+bEubPb8YiL7MrXu+xEXXveH43D5MpkA+",
          "dtype": "f4"
         },
         "yaxis": "y9"
        },
        {
         "hovertemplate": "cluster=0<br>poema=Não te amo mais<br>x=%{x}<br>y=%{y}<extra></extra>",
         "legendgroup": "0",
         "marker": {
          "color": "#000001",
          "symbol": "circle"
         },
         "mode": "markers",
         "name": "0",
         "orientation": "v",
         "showlegend": false,
         "type": "scatter",
         "x": {
          "bdata": "uB8RPr5GCr68vii+NvXWvtFNo74oXhg8nGmjvgW08L5IT2a9",
          "dtype": "f4"
         },
         "xaxis": "x10",
         "y": {
          "bdata": "1ayqvm8VXT5RYd69+/QcPYoi1r2QVSE9bOTCvW4wlz05MmY9",
          "dtype": "f4"
         },
         "yaxis": "y10"
        },
        {
         "hovertemplate": "cluster=0<br>poema=Nossa truculência<br>x=%{x}<br>y=%{y}<extra></extra>",
         "legendgroup": "0",
         "marker": {
          "color": "#000001",
          "symbol": "circle"
         },
         "mode": "markers",
         "name": "0",
         "orientation": "v",
         "showlegend": false,
         "type": "scatter",
         "x": {
          "bdata": "XfhCOkHaJr7u28M+JjctPVQz0L0hmiO+c4v4PUqjmDx+ZAK+hjY2PsiS9j3AgcQ+voUqPvIuYD79ShI/",
          "dtype": "f4"
         },
         "xaxis": "x11",
         "y": {
          "bdata": "qojtPTlyCj9xfh++hnKqPqF61z2Wp9O8ZTk5OyRr1ryC7Qw/WWwGP4WTtj0N2Uu+xLIxPm2jJr2p40q+",
          "dtype": "f4"
         },
         "yaxis": "y11"
        },
        {
         "hovertemplate": "cluster=0<br>poema=Quero escrever o borrão vermelho de sangue<br>x=%{x}<br>y=%{y}<extra></extra>",
         "legendgroup": "0",
         "marker": {
          "color": "#000001",
          "symbol": "circle"
         },
         "mode": "markers",
         "name": "0",
         "orientation": "v",
         "showlegend": false,
         "type": "scatter",
         "x": {
          "bdata": "X+waPv/CYz5yBQo+rAbpOKl7Kr7hAyw+/DyTus0ATj54ZGc+4JEUvq/1p71CHwc+7EVbPgvjK74=",
          "dtype": "f4"
         },
         "xaxis": "x12",
         "y": {
          "bdata": "WZckvJ32UDzHjV6+wRg4PrFi9j6lRIA9bKE9PoPXqD11/cq7F7MHPgXIUz47sV++rYqIvbEHtD4=",
          "dtype": "f4"
         },
         "yaxis": "y12"
        },
        {
         "hovertemplate": "cluster=0<br>poema=Solidão<br>x=%{x}<br>y=%{y}<extra></extra>",
         "legendgroup": "0",
         "marker": {
          "color": "#000001",
          "symbol": "circle"
         },
         "mode": "markers",
         "name": "0",
         "orientation": "v",
         "showlegend": false,
         "type": "scatter",
         "x": {
          "bdata": "xTyEvlPTgL5KHpa+ClRZvg==",
          "dtype": "f4"
         },
         "xaxis": "x13",
         "y": {
          "bdata": "cyd/vsoV5T2PdUK9AFazvg==",
          "dtype": "f4"
         },
         "yaxis": "y13"
        },
        {
         "hovertemplate": "cluster=0<br>poema=Sonhe<br>x=%{x}<br>y=%{y}<extra></extra>",
         "legendgroup": "0",
         "marker": {
          "color": "#000001",
          "symbol": "circle"
         },
         "mode": "markers",
         "name": "0",
         "orientation": "v",
         "showlegend": false,
         "type": "scatter",
         "x": {
          "bdata": "PYrAukukpb4=",
          "dtype": "f4"
         },
         "xaxis": "x14",
         "y": {
          "bdata": "A4bpPrznQ70=",
          "dtype": "f4"
         },
         "yaxis": "y14"
        },
        {
         "hovertemplate": "cluster=0<br>poema=Sou<br>x=%{x}<br>y=%{y}<extra></extra>",
         "legendgroup": "0",
         "marker": {
          "color": "#000001",
          "symbol": "circle"
         },
         "mode": "markers",
         "name": "0",
         "orientation": "v",
         "showlegend": false,
         "type": "scatter",
         "x": {
          "bdata": "E+aQvnplzr0NJoi+2dPtvUXOrrzfryy+LAUUvob8Dr4=",
          "dtype": "f4"
         },
         "xaxis": "x15",
         "y": {
          "bdata": "y9YjPakgBr6GSqY+VDuRvY2hkD0iPUc+ntyIvLxDmD4=",
          "dtype": "f4"
         },
         "yaxis": "y15"
        },
        {
         "hovertemplate": "cluster=1<br>poema=Alma luz<br>x=%{x}<br>y=%{y}<extra></extra>",
         "legendgroup": "1",
         "marker": {
          "color": "#000002",
          "symbol": "circle"
         },
         "mode": "markers",
         "name": "1",
         "orientation": "v",
         "showlegend": true,
         "type": "scatter",
         "x": {
          "bdata": "yR7ivhzNJr8=",
          "dtype": "f4"
         },
         "xaxis": "x",
         "y": {
          "bdata": "8qkePGQJIz4=",
          "dtype": "f4"
         },
         "yaxis": "y"
        },
        {
         "hovertemplate": "cluster=1<br>poema=A lucidez perigosa<br>x=%{x}<br>y=%{y}<extra></extra>",
         "legendgroup": "1",
         "marker": {
          "color": "#000002",
          "symbol": "circle"
         },
         "mode": "markers",
         "name": "1",
         "orientation": "v",
         "showlegend": false,
         "type": "scatter",
         "x": {
          "bdata": "/WRpviCqcr2GTyS9B2zgvCup3j0Xizu9i68HvtLcubx+Qx4/fkMeP+/lmz4=",
          "dtype": "f4"
         },
         "xaxis": "x2",
         "y": {
          "bdata": "k8TNPBgRoz0A1Im7CRofvmselr08F3C+oArPvcOZir4pYYI+J2GCPjnCSL8=",
          "dtype": "f4"
         },
         "yaxis": "y2"
        },
        {
         "hovertemplate": "cluster=1<br>poema=A perfeição<br>x=%{x}<br>y=%{y}<extra></extra>",
         "legendgroup": "1",
         "marker": {
          "color": "#000002",
          "symbol": "circle"
         },
         "mode": "markers",
         "name": "1",
         "orientation": "v",
         "showlegend": false,
         "type": "scatter",
         "x": {
          "bdata": "bcxrPE/1wj5/KrI+4cHyPtyfWjvbNCG9oeyaPg==",
          "dtype": "f4"
         },
         "xaxis": "x3",
         "y": {
          "bdata": "cjoRPqy1t772n629nAyuvgaWnrzRpwI93SwsPw==",
          "dtype": "f4"
         },
         "yaxis": "y3"
        },
        {
         "hovertemplate": "cluster=1<br>poema=Dá-me a tua mão<br>x=%{x}<br>y=%{y}<extra></extra>",
         "legendgroup": "1",
         "marker": {
          "color": "#000002",
          "symbol": "circle"
         },
         "mode": "markers",
         "name": "1",
         "orientation": "v",
         "showlegend": false,
         "type": "scatter",
         "x": {
          "bdata": "m+q9PQBkib4lgSK+ltR0vkyarr6z5Ya+Po35va33qb0=",
          "dtype": "f4"
         },
         "xaxis": "x4",
         "y": {
          "bdata": "Hbs8v/QxQj7SDga+sfM6PtRpyj3sBXI9IvqYPGatOz4=",
          "dtype": "f4"
         },
         "yaxis": "y4"
        },
        {
         "hovertemplate": "cluster=1<br>poema=Eu<br>x=%{x}<br>y=%{y}<extra></extra>",
         "legendgroup": "1",
         "marker": {
          "color": "#000002",
          "symbol": "circle"
         },
         "mode": "markers",
         "name": "1",
         "orientation": "v",
         "showlegend": false,
         "type": "scatter",
         "x": {
          "bdata": "ob1OPgJgjr0STrc8/rFCPicnLr1dY0y9GGulvhL0GD6M4aa+",
          "dtype": "f4"
         },
         "xaxis": "x5",
         "y": {
          "bdata": "Ag+ivTWbZL5ioOQ+TmvvPgfjQjyNL2y9ZcLvPdg4rTzhn7E+",
          "dtype": "f4"
         },
         "yaxis": "y5"
        },
        {
         "hovertemplate": "cluster=1<br>poema=Mão<br>x=%{x}<br>y=%{y}<extra></extra>",
         "legendgroup": "1",
         "marker": {
          "color": "#000002",
          "symbol": "circle"
         },
         "mode": "markers",
         "name": "1",
         "orientation": "v",
         "showlegend": false,
         "type": "scatter",
         "x": {
          "bdata": "9y3JPgnJ576Qa44+",
          "dtype": "f4"
         },
         "xaxis": "x6",
         "y": {
          "bdata": "lbjdPqQ8uz1QtLI+",
          "dtype": "f4"
         },
         "yaxis": "y6"
        },
        {
         "hovertemplate": "cluster=1<br>poema=Mas há a vida<br>x=%{x}<br>y=%{y}<extra></extra>",
         "legendgroup": "1",
         "marker": {
          "color": "#000002",
          "symbol": "circle"
         },
         "mode": "markers",
         "name": "1",
         "orientation": "v",
         "showlegend": false,
         "type": "scatter",
         "x": {
          "bdata": "k4QFPn16Hz8GIYk97RqmPg==",
          "dtype": "f4"
         },
         "xaxis": "x7",
         "y": {
          "bdata": "bxunvj+N+j5k0bK9oTzHvg==",
          "dtype": "f4"
         },
         "yaxis": "y7"
        },
        {
         "hovertemplate": "cluster=1<br>poema=Meu Deus, me dê a coragem<br>x=%{x}<br>y=%{y}<extra></extra>",
         "legendgroup": "1",
         "marker": {
          "color": "#000002",
          "symbol": "circle"
         },
         "mode": "markers",
         "name": "1",
         "orientation": "v",
         "showlegend": false,
         "type": "scatter",
         "x": {
          "bdata": "kYZ0vjV8ST5TPIg+QT2+Pv1kxb1PiVc9mfY9vv8kiL68Ft4+9UjbPhrbsj7pnRK7NnpsPA==",
          "dtype": "f4"
         },
         "xaxis": "x8",
         "y": {
          "bdata": "OTa3vpYvQ76Pmo89qIO7PFlIrr5Yinm+b8eEvM24nD56rSw98Bd6PRbOhD0YBpe+gsM2vQ==",
          "dtype": "f4"
         },
         "yaxis": "y8"
        },
        {
         "hovertemplate": "cluster=1<br>poema=Minha alma tem o peso da luz<br>x=%{x}<br>y=%{y}<extra></extra>",
         "legendgroup": "1",
         "marker": {
          "color": "#000002",
          "symbol": "circle"
         },
         "mode": "markers",
         "name": "1",
         "orientation": "v",
         "showlegend": false,
         "type": "scatter",
         "x": {
          "bdata": "x4a1vg==",
          "dtype": "f4"
         },
         "xaxis": "x9",
         "y": {
          "bdata": "ks63vg==",
          "dtype": "f4"
         },
         "yaxis": "y9"
        },
        {
         "hovertemplate": "cluster=1<br>poema=Não te amo mais<br>x=%{x}<br>y=%{y}<extra></extra>",
         "legendgroup": "1",
         "marker": {
          "color": "#000002",
          "symbol": "circle"
         },
         "mode": "markers",
         "name": "1",
         "orientation": "v",
         "showlegend": false,
         "type": "scatter",
         "x": {
          "bdata": "iMyOPhkLHD5/43+9L+AaPm39/D7nRqE+cNDOPg==",
          "dtype": "f4"
         },
         "xaxis": "x10",
         "y": {
          "bdata": "fWi4vNnv67yka+k+Zf3MvgEerj6+r7K+FBNkPg==",
          "dtype": "f4"
         },
         "yaxis": "y10"
        },
        {
         "hovertemplate": "cluster=1<br>poema=Nossa truculência<br>x=%{x}<br>y=%{y}<extra></extra>",
         "legendgroup": "1",
         "marker": {
          "color": "#000002",
          "symbol": "circle"
         },
         "mode": "markers",
         "name": "1",
         "orientation": "v",
         "showlegend": false,
         "type": "scatter",
         "x": {
          "bdata": "HkafPRMvgr4++Ic+QYTJvbNQ8b6kU3U9+bpNPlcK2L5maKy+9KizvvBqWr6Ap+G9",
          "dtype": "f4"
         },
         "xaxis": "x11",
         "y": {
          "bdata": "Vjdevv+qcL1U8Du9zFQHvfvXQL5HjGm+JVtpvsvDiL4maTq+M+f0vUeHJ752z3G9",
          "dtype": "f4"
         },
         "yaxis": "y11"
        },
        {
         "hovertemplate": "cluster=1<br>poema=Quero escrever o borrão vermelho de sangue<br>x=%{x}<br>y=%{y}<extra></extra>",
         "legendgroup": "1",
         "marker": {
          "color": "#000002",
          "symbol": "circle"
         },
         "mode": "markers",
         "name": "1",
         "orientation": "v",
         "showlegend": false,
         "type": "scatter",
         "x": {
          "bdata": "R3OgPWD0zD2xlkG/Aj6DPt5F+z3rC9S8dyU4PZIjNb8=",
          "dtype": "f4"
         },
         "xaxis": "x12",
         "y": {
          "bdata": "taZNvk4IFb70bT6+bkw/vcoNfL6rv6u+WPM0PgT4RL4=",
          "dtype": "f4"
         },
         "yaxis": "y12"
        },
        {
         "hovertemplate": "cluster=1<br>poema=Solidão<br>x=%{x}<br>y=%{y}<extra></extra>",
         "legendgroup": "1",
         "marker": {
          "color": "#000002",
          "symbol": "circle"
         },
         "mode": "markers",
         "name": "1",
         "orientation": "v",
         "showlegend": false,
         "type": "scatter",
         "x": {
          "bdata": "jIt7Py8KBj0=",
          "dtype": "f4"
         },
         "xaxis": "x13",
         "y": {
          "bdata": "8A4ZvjU9Lz8=",
          "dtype": "f4"
         },
         "yaxis": "y13"
        },
        {
         "hovertemplate": "cluster=1<br>poema=Sonhe<br>x=%{x}<br>y=%{y}<extra></extra>",
         "legendgroup": "1",
         "marker": {
          "color": "#000002",
          "symbol": "circle"
         },
         "mode": "markers",
         "name": "1",
         "orientation": "v",
         "showlegend": false,
         "type": "scatter",
         "x": {
          "bdata": "EYq+vnPcur7qYP29g7/OPqyw5D4nvLM+XxPSPsiyXD2PDpm9z4kjvtxTe74=",
          "dtype": "f4"
         },
         "xaxis": "x14",
         "y": {
          "bdata": "a+ODvvbuwz6t5+e+7yZ6Poode76HVDC9HRyqO9+pwT1d/B6+F101voPlSD4=",
          "dtype": "f4"
         },
         "yaxis": "y14"
        },
        {
         "hovertemplate": "cluster=1<br>poema=Sou<br>x=%{x}<br>y=%{y}<extra></extra>",
         "legendgroup": "1",
         "marker": {
          "color": "#000002",
          "symbol": "circle"
         },
         "mode": "markers",
         "name": "1",
         "orientation": "v",
         "showlegend": false,
         "type": "scatter",
         "x": {
          "bdata": "2iSDP2EllD3DhhI+",
          "dtype": "f4"
         },
         "xaxis": "x15",
         "y": {
          "bdata": "01J/PuuY4r7N+QO/",
          "dtype": "f4"
         },
         "yaxis": "y15"
        }
       ],
       "layout": {
        "annotations": [
         {
          "font": {},
          "showarrow": false,
          "text": "poema=Alma luz",
          "x": 0.024,
          "xanchor": "center",
          "xref": "paper",
          "y": 1,
          "yanchor": "bottom",
          "yref": "paper"
         },
         {
          "font": {},
          "showarrow": false,
          "text": "poema=A lucidez perigosa",
          "x": 0.092,
          "xanchor": "center",
          "xref": "paper",
          "y": 1,
          "yanchor": "bottom",
          "yref": "paper"
         },
         {
          "font": {},
          "showarrow": false,
          "text": "poema=A perfeição",
          "x": 0.16,
          "xanchor": "center",
          "xref": "paper",
          "y": 1,
          "yanchor": "bottom",
          "yref": "paper"
         },
         {
          "font": {},
          "showarrow": false,
          "text": "poema=Dá-me a tua mão",
          "x": 0.228,
          "xanchor": "center",
          "xref": "paper",
          "y": 1,
          "yanchor": "bottom",
          "yref": "paper"
         },
         {
          "font": {},
          "showarrow": false,
          "text": "poema=Eu",
          "x": 0.29600000000000004,
          "xanchor": "center",
          "xref": "paper",
          "y": 1,
          "yanchor": "bottom",
          "yref": "paper"
         },
         {
          "font": {},
          "showarrow": false,
          "text": "poema=Mão",
          "x": 0.364,
          "xanchor": "center",
          "xref": "paper",
          "y": 1,
          "yanchor": "bottom",
          "yref": "paper"
         },
         {
          "font": {},
          "showarrow": false,
          "text": "poema=Mas há a vida",
          "x": 0.43199999999999994,
          "xanchor": "center",
          "xref": "paper",
          "y": 1,
          "yanchor": "bottom",
          "yref": "paper"
         },
         {
          "font": {},
          "showarrow": false,
          "text": "poema=Meu Deus, me dê a coragem",
          "x": 0.5,
          "xanchor": "center",
          "xref": "paper",
          "y": 1,
          "yanchor": "bottom",
          "yref": "paper"
         },
         {
          "font": {},
          "showarrow": false,
          "text": "poema=Minha alma tem o peso da luz",
          "x": 0.568,
          "xanchor": "center",
          "xref": "paper",
          "y": 1,
          "yanchor": "bottom",
          "yref": "paper"
         },
         {
          "font": {},
          "showarrow": false,
          "text": "poema=Não te amo mais",
          "x": 0.6359999999999999,
          "xanchor": "center",
          "xref": "paper",
          "y": 1,
          "yanchor": "bottom",
          "yref": "paper"
         },
         {
          "font": {},
          "showarrow": false,
          "text": "poema=Nossa truculência",
          "x": 0.704,
          "xanchor": "center",
          "xref": "paper",
          "y": 1,
          "yanchor": "bottom",
          "yref": "paper"
         },
         {
          "font": {},
          "showarrow": false,
          "text": "poema=Quero escrever o borrão vermelho de sangue",
          "x": 0.7719999999999999,
          "xanchor": "center",
          "xref": "paper",
          "y": 1,
          "yanchor": "bottom",
          "yref": "paper"
         },
         {
          "font": {},
          "showarrow": false,
          "text": "poema=Solidão",
          "x": 0.84,
          "xanchor": "center",
          "xref": "paper",
          "y": 1,
          "yanchor": "bottom",
          "yref": "paper"
         },
         {
          "font": {},
          "showarrow": false,
          "text": "poema=Sonhe",
          "x": 0.908,
          "xanchor": "center",
          "xref": "paper",
          "y": 1,
          "yanchor": "bottom",
          "yref": "paper"
         },
         {
          "font": {},
          "showarrow": false,
          "text": "poema=Sou",
          "x": 0.976,
          "xanchor": "center",
          "xref": "paper",
          "y": 1,
          "yanchor": "bottom",
          "yref": "paper"
         }
        ],
        "height": 800,
        "legend": {
         "title": {
          "text": "cluster"
         },
         "tracegroupgap": 0
        },
        "template": {
         "data": {
          "candlestick": [
           {
            "decreasing": {
             "line": {
              "color": "#000033"
             }
            },
            "increasing": {
             "line": {
              "color": "#000032"
             }
            },
            "type": "candlestick"
           }
          ],
          "contour": [
           {
            "colorscale": [
             [
              0,
              "#000011"
             ],
             [
              0.1111111111111111,
              "#000012"
             ],
             [
              0.2222222222222222,
              "#000013"
             ],
             [
              0.3333333333333333,
              "#000014"
             ],
             [
              0.4444444444444444,
              "#000015"
             ],
             [
              0.5555555555555556,
              "#000016"
             ],
             [
              0.6666666666666666,
              "#000017"
             ],
             [
              0.7777777777777778,
              "#000018"
             ],
             [
              0.8888888888888888,
              "#000019"
             ],
             [
              1,
              "#000020"
             ]
            ],
            "type": "contour"
           }
          ],
          "contourcarpet": [
           {
            "colorscale": [
             [
              0,
              "#000011"
             ],
             [
              0.1111111111111111,
              "#000012"
             ],
             [
              0.2222222222222222,
              "#000013"
             ],
             [
              0.3333333333333333,
              "#000014"
             ],
             [
              0.4444444444444444,
              "#000015"
             ],
             [
              0.5555555555555556,
              "#000016"
             ],
             [
              0.6666666666666666,
              "#000017"
             ],
             [
              0.7777777777777778,
              "#000018"
             ],
             [
              0.8888888888888888,
              "#000019"
             ],
             [
              1,
              "#000020"
             ]
            ],
            "type": "contourcarpet"
           }
          ],
          "heatmap": [
           {
            "colorscale": [
             [
              0,
              "#000011"
             ],
             [
              0.1111111111111111,
              "#000012"
             ],
             [
              0.2222222222222222,
              "#000013"
             ],
             [
              0.3333333333333333,
              "#000014"
             ],
             [
              0.4444444444444444,
              "#000015"
             ],
             [
              0.5555555555555556,
              "#000016"
             ],
             [
              0.6666666666666666,
              "#000017"
             ],
             [
              0.7777777777777778,
              "#000018"
             ],
             [
              0.8888888888888888,
              "#000019"
             ],
             [
              1,
              "#000020"
             ]
            ],
            "type": "heatmap"
           }
          ],
          "histogram2d": [
           {
            "colorscale": [
             [
              0,
              "#000011"
             ],
             [
              0.1111111111111111,
              "#000012"
             ],
             [
              0.2222222222222222,
              "#000013"
             ],
             [
              0.3333333333333333,
              "#000014"
             ],
             [
              0.4444444444444444,
              "#000015"
             ],
             [
              0.5555555555555556,
              "#000016"
             ],
             [
              0.6666666666666666,
              "#000017"
             ],
             [
              0.7777777777777778,
              "#000018"
             ],
             [
              0.8888888888888888,
              "#000019"
             ],
             [
              1,
              "#000020"
             ]
            ],
            "type": "histogram2d"
           }
          ],
          "icicle": [
           {
            "textfont": {
             "color": "white"
            },
            "type": "icicle"
           }
          ],
          "sankey": [
           {
            "textfont": {
             "color": "#000036"
            },
            "type": "sankey"
           }
          ],
          "scatter": [
           {
            "marker": {
             "line": {
              "width": 0
             }
            },
            "type": "scatter"
           }
          ],
          "table": [
           {
            "cells": {
             "fill": {
              "color": "#000038"
             },
             "font": {
              "color": "#000037"
             },
             "line": {
              "color": "#000039"
             }
            },
            "header": {
             "fill": {
              "color": "#000040"
             },
             "font": {
              "color": "#000036"
             },
             "line": {
              "color": "#000039"
             }
            },
            "type": "table"
           }
          ],
          "waterfall": [
           {
            "connector": {
             "line": {
              "color": "#000036",
              "width": 2
             }
            },
            "decreasing": {
             "marker": {
              "color": "#000033"
             }
            },
            "increasing": {
             "marker": {
              "color": "#000032"
             }
            },
            "totals": {
             "marker": {
              "color": "#000034"
             }
            },
            "type": "waterfall"
           }
          ]
         },
         "layout": {
          "coloraxis": {
           "colorscale": [
            [
             0,
             "#000011"
            ],
            [
             0.1111111111111111,
             "#000012"
            ],
            [
             0.2222222222222222,
             "#000013"
            ],
            [
             0.3333333333333333,
             "#000014"
            ],
            [
             0.4444444444444444,
             "#000015"
            ],
            [
             0.5555555555555556,
             "#000016"
            ],
            [
             0.6666666666666666,
             "#000017"
            ],
            [
             0.7777777777777778,
             "#000018"
            ],
            [
             0.8888888888888888,
             "#000019"
            ],
            [
             1,
             "#000020"
            ]
           ]
          },
          "colorscale": {
           "diverging": [
            [
             0,
             "#000021"
            ],
            [
             0.1,
             "#000022"
            ],
            [
             0.2,
             "#000023"
            ],
            [
             0.3,
             "#000024"
            ],
            [
             0.4,
             "#000025"
            ],
            [
             0.5,
             "#000026"
            ],
            [
             0.6,
             "#000027"
            ],
            [
             0.7,
             "#000028"
            ],
            [
             0.8,
             "#000029"
            ],
            [
             0.9,
             "#000030"
            ],
            [
             1,
             "#000031"
            ]
           ],
           "sequential": [
            [
             0,
             "#000011"
            ],
            [
             0.1111111111111111,
             "#000012"
            ],
            [
             0.2222222222222222,
             "#000013"
            ],
            [
             0.3333333333333333,
             "#000014"
            ],
            [
             0.4444444444444444,
             "#000015"
            ],
            [
             0.5555555555555556,
             "#000016"
            ],
            [
             0.6666666666666666,
             "#000017"
            ],
            [
             0.7777777777777778,
             "#000018"
            ],
            [
             0.8888888888888888,
             "#000019"
            ],
            [
             1,
             "#000020"
            ]
           ],
           "sequentialminus": [
            [
             0,
             "#000011"
            ],
            [
             0.1111111111111111,
             "#000012"
            ],
            [
             0.2222222222222222,
             "#000013"
            ],
            [
             0.3333333333333333,
             "#000014"
            ],
            [
             0.4444444444444444,
             "#000015"
            ],
            [
             0.5555555555555556,
             "#000016"
            ],
            [
             0.6666666666666666,
             "#000017"
            ],
            [
             0.7777777777777778,
             "#000018"
            ],
            [
             0.8888888888888888,
             "#000019"
            ],
            [
             1,
             "#000020"
            ]
           ]
          },
          "colorway": [
           "#000001",
           "#000002",
           "#000003",
           "#000004",
           "#000005",
           "#000006",
           "#000007",
           "#000008",
           "#000009",
           "#000010"
          ]
         }
        },
        "title": {
         "text": "Clusters semânticos de linhas por poema (PCA 2D)"
        },
        "width": 1200,
        "xaxis": {
         "anchor": "y",
         "domain": [
          0,
          0.048
         ],
         "title": {
          "text": "x"
         }
        },
        "xaxis10": {
         "anchor": "y10",
         "domain": [
          0.6119999999999999,
          0.6599999999999999
         ],
         "matches": "x",
         "title": {
          "text": "x"
         }
        },
        "xaxis11": {
         "anchor": "y11",
         "domain": [
          0.6799999999999999,
          0.728
         ],
         "matches": "x",
         "title": {
          "text": "x"
         }
        },
        "xaxis12": {
         "anchor": "y12",
         "domain": [
          0.7479999999999999,
          0.7959999999999999
         ],
         "matches": "x",
         "title": {
          "text": "x"
         }
        },
        "xaxis13": {
         "anchor": "y13",
         "domain": [
          0.816,
          0.864
         ],
         "matches": "x",
         "title": {
          "text": "x"
         }
        },
        "xaxis14": {
         "anchor": "y14",
         "domain": [
          0.884,
          0.932
         ],
         "matches": "x",
         "title": {
          "text": "x"
         }
        },
        "xaxis15": {
         "anchor": "y15",
         "domain": [
          0.9520000000000001,
          1
         ],
         "matches": "x",
         "title": {
          "text": "x"
         }
        },
        "xaxis2": {
         "anchor": "y2",
         "domain": [
          0.068,
          0.116
         ],
         "matches": "x",
         "title": {
          "text": "x"
         }
        },
        "xaxis3": {
         "anchor": "y3",
         "domain": [
          0.136,
          0.184
         ],
         "matches": "x",
         "title": {
          "text": "x"
         }
        },
        "xaxis4": {
         "anchor": "y4",
         "domain": [
          0.20400000000000001,
          0.252
         ],
         "matches": "x",
         "title": {
          "text": "x"
         }
        },
        "xaxis5": {
         "anchor": "y5",
         "domain": [
          0.272,
          0.32
         ],
         "matches": "x",
         "title": {
          "text": "x"
         }
        },
        "xaxis6": {
         "anchor": "y6",
         "domain": [
          0.33999999999999997,
          0.38799999999999996
         ],
         "matches": "x",
         "title": {
          "text": "x"
         }
        },
        "xaxis7": {
         "anchor": "y7",
         "domain": [
          0.408,
          0.45599999999999996
         ],
         "matches": "x",
         "title": {
          "text": "x"
         }
        },
        "xaxis8": {
         "anchor": "y8",
         "domain": [
          0.476,
          0.524
         ],
         "matches": "x",
         "title": {
          "text": "x"
         }
        },
        "xaxis9": {
         "anchor": "y9",
         "domain": [
          0.5439999999999999,
          0.592
         ],
         "matches": "x",
         "title": {
          "text": "x"
         }
        },
        "yaxis": {
         "anchor": "x",
         "domain": [
          0,
          1
         ],
         "title": {
          "text": "y"
         }
        },
        "yaxis10": {
         "anchor": "x10",
         "domain": [
          0,
          1
         ],
         "matches": "y",
         "showticklabels": false
        },
        "yaxis11": {
         "anchor": "x11",
         "domain": [
          0,
          1
         ],
         "matches": "y",
         "showticklabels": false
        },
        "yaxis12": {
         "anchor": "x12",
         "domain": [
          0,
          1
         ],
         "matches": "y",
         "showticklabels": false
        },
        "yaxis13": {
         "anchor": "x13",
         "domain": [
          0,
          1
         ],
         "matches": "y",
         "showticklabels": false
        },
        "yaxis14": {
         "anchor": "x14",
         "domain": [
          0,
          1
         ],
         "matches": "y",
         "showticklabels": false
        },
        "yaxis15": {
         "anchor": "x15",
         "domain": [
          0,
          1
         ],
         "matches": "y",
         "showticklabels": false
        },
        "yaxis2": {
         "anchor": "x2",
         "domain": [
          0,
          1
         ],
         "matches": "y",
         "showticklabels": false
        },
        "yaxis3": {
         "anchor": "x3",
         "domain": [
          0,
          1
         ],
         "matches": "y",
         "showticklabels": false
        },
        "yaxis4": {
         "anchor": "x4",
         "domain": [
          0,
          1
         ],
         "matches": "y",
         "showticklabels": false
        },
        "yaxis5": {
         "anchor": "x5",
         "domain": [
          0,
          1
         ],
         "matches": "y",
         "showticklabels": false
        },
        "yaxis6": {
         "anchor": "x6",
         "domain": [
          0,
          1
         ],
         "matches": "y",
         "showticklabels": false
        },
        "yaxis7": {
         "anchor": "x7",
         "domain": [
          0,
          1
         ],
         "matches": "y",
         "showticklabels": false
        },
        "yaxis8": {
         "anchor": "x8",
         "domain": [
          0,
          1
         ],
         "matches": "y",
         "showticklabels": false
        },
        "yaxis9": {
         "anchor": "x9",
         "domain": [
          0,
          1
         ],
         "matches": "y",
         "showticklabels": false
        }
       }
      }
     },
     "metadata": {},
     "output_type": "display_data"
    }
   ],
   "source": [
    "# Visualização de clusters semânticos por poema (PCA 2D)\n",
    "from sklearn.decomposition import PCA\n",
    "cluster_plots = []\n",
    "for titulo, texto in poemas.items():\n",
    "    linhas = [l for l in texto.splitlines() if l.strip()]\n",
    "    if len(linhas) < 2:\n",
    "        continue\n",
    "    embs = visualizer.compute_embeddings(linhas, model_name)\n",
    "    coords = PCA(n_components=2).fit_transform(embs)\n",
    "    labels = KMeans(n_clusters=2, random_state=0).fit_predict(embs)\n",
    "    df_plot = pd.DataFrame(coords, columns=['x','y'])\n",
    "    df_plot['linha'] = linhas\n",
    "    df_plot['cluster'] = labels.astype(str)\n",
    "    df_plot['poema'] = titulo\n",
    "    cluster_plots.append(df_plot)\n",
    "df_all = pd.concat(cluster_plots, ignore_index=True)\n",
    "fig = px.scatter(\n",
    "    df_all, x='x', y='y', color='cluster', facet_col='poema',\n",
    "    title='Clusters semânticos de linhas por poema (PCA 2D)'\n",
    ")\n",
    "fig.update_layout(height=800, width=1200)\n",
    "fig.show()\n"
   ]
  },
  {
   "cell_type": "code",
   "execution_count": 9,
   "id": "356ff78d",
   "metadata": {},
   "outputs": [
    {
     "data": {
      "application/vnd.plotly.v1+json": {
       "config": {
        "plotlyServerURL": "https://plot.ly"
       },
       "data": [
        {
         "hovertemplate": "poema=Alma luz<br>cluster=0<br>x=%{x}<br>y=%{y}<extra></extra>",
         "legendgroup": "Alma luz, 0",
         "marker": {
          "color": "#000001",
          "symbol": "circle"
         },
         "mode": "markers",
         "name": "Alma luz, 0",
         "orientation": "v",
         "showlegend": true,
         "type": "scatter",
         "x": {
          "bdata": "GE2rvDO0Cj75WNU8KKqTvqEFjz67dbE+FXSaPvGRuLshW6M+",
          "dtype": "f4"
         },
         "xaxis": "x",
         "y": {
          "bdata": "dQwCPw0iND41RxO9B+yjvhuuzr2Zw5C9wYoXPtAKAL8s2t08",
          "dtype": "f4"
         },
         "yaxis": "y"
        },
        {
         "hovertemplate": "poema=Alma luz<br>cluster=1<br>x=%{x}<br>y=%{y}<extra></extra>",
         "legendgroup": "Alma luz, 1",
         "marker": {
          "color": "#000001",
          "symbol": "diamond"
         },
         "mode": "markers",
         "name": "Alma luz, 1",
         "orientation": "v",
         "showlegend": true,
         "type": "scatter",
         "x": {
          "bdata": "yR7ivhzNJr8=",
          "dtype": "f4"
         },
         "xaxis": "x",
         "y": {
          "bdata": "8qkePGQJIz4=",
          "dtype": "f4"
         },
         "yaxis": "y"
        },
        {
         "hovertemplate": "poema=A lucidez perigosa<br>cluster=0<br>x=%{x}<br>y=%{y}<extra></extra>",
         "legendgroup": "A lucidez perigosa, 0",
         "marker": {
          "color": "#000002",
          "symbol": "circle"
         },
         "mode": "markers",
         "name": "A lucidez perigosa, 0",
         "orientation": "v",
         "showlegend": true,
         "type": "scatter",
         "x": {
          "bdata": "cbDMvHRrJ778Qw++sybJPYmReL5C1QE+5hhXPax/Sr7FuJ69RIl4vpaKwr4b4J294aYNvbDOQj4Bgps8",
          "dtype": "f4"
         },
         "xaxis": "x",
         "y": {
          "bdata": "NXYMPbUWlD0kIr49j9CTPhggTz5werq9QWoLPpCf7j39WPE9UFAevmB+YzxHTZ4972PwPfJVO75SfCw+",
          "dtype": "f4"
         },
         "yaxis": "y"
        },
        {
         "hovertemplate": "poema=A lucidez perigosa<br>cluster=1<br>x=%{x}<br>y=%{y}<extra></extra>",
         "legendgroup": "A lucidez perigosa, 1",
         "marker": {
          "color": "#000002",
          "symbol": "diamond"
         },
         "mode": "markers",
         "name": "A lucidez perigosa, 1",
         "orientation": "v",
         "showlegend": true,
         "type": "scatter",
         "x": {
          "bdata": "/WRpviCqcr2GTyS9B2zgvCup3j0Xizu9i68HvtLcubx+Qx4/fkMeP+/lmz4=",
          "dtype": "f4"
         },
         "xaxis": "x",
         "y": {
          "bdata": "k8TNPBgRoz0A1Im7CRofvmselr08F3C+oArPvcOZir4pYYI+J2GCPjnCSL8=",
          "dtype": "f4"
         },
         "yaxis": "y"
        },
        {
         "hovertemplate": "poema=A perfeição<br>cluster=0<br>x=%{x}<br>y=%{y}<extra></extra>",
         "legendgroup": "A perfeição, 0",
         "marker": {
          "color": "#000003",
          "symbol": "circle"
         },
         "mode": "markers",
         "name": "A perfeição, 0",
         "orientation": "v",
         "showlegend": true,
         "type": "scatter",
         "x": {
          "bdata": "4onWvk9N/r3K1oq+fo6Mvlbtgb6kVH6+JHvbPQ==",
          "dtype": "f4"
         },
         "xaxis": "x",
         "y": {
          "bdata": "zHXNvZmbIb5k0lO+nMB9vbdQ07rngTg+niacPg==",
          "dtype": "f4"
         },
         "yaxis": "y"
        },
        {
         "hovertemplate": "poema=A perfeição<br>cluster=1<br>x=%{x}<br>y=%{y}<extra></extra>",
         "legendgroup": "A perfeição, 1",
         "marker": {
          "color": "#000003",
          "symbol": "diamond"
         },
         "mode": "markers",
         "name": "A perfeição, 1",
         "orientation": "v",
         "showlegend": true,
         "type": "scatter",
         "x": {
          "bdata": "bcxrPE/1wj5/KrI+4cHyPtyfWjvbNCG9oeyaPg==",
          "dtype": "f4"
         },
         "xaxis": "x",
         "y": {
          "bdata": "cjoRPqy1t772n629nAyuvgaWnrzRpwI93SwsPw==",
          "dtype": "f4"
         },
         "yaxis": "y"
        },
        {
         "hovertemplate": "poema=Dá-me a tua mão<br>cluster=0<br>x=%{x}<br>y=%{y}<extra></extra>",
         "legendgroup": "Dá-me a tua mão, 0",
         "marker": {
          "color": "#000004",
          "symbol": "circle"
         },
         "mode": "markers",
         "name": "Dá-me a tua mão, 0",
         "orientation": "v",
         "showlegend": true,
         "type": "scatter",
         "x": {
          "bdata": "7oY5PkAS+L0V9YQ+xHImvgoSBD8Y51U+aTwUvv9tgD2GUAg/CCW7vUAcET4=",
          "dtype": "f4"
         },
         "xaxis": "x",
         "y": {
          "bdata": "ZsGzvlWITrzqwDM94D2evaH9gD5sVLg9EJXjPfmGwL6Qwmk+4PeLPR1MIz4=",
          "dtype": "f4"
         },
         "yaxis": "y"
        },
        {
         "hovertemplate": "poema=Dá-me a tua mão<br>cluster=1<br>x=%{x}<br>y=%{y}<extra></extra>",
         "legendgroup": "Dá-me a tua mão, 1",
         "marker": {
          "color": "#000004",
          "symbol": "diamond"
         },
         "mode": "markers",
         "name": "Dá-me a tua mão, 1",
         "orientation": "v",
         "showlegend": true,
         "type": "scatter",
         "x": {
          "bdata": "m+q9PQBkib4lgSK+ltR0vkyarr6z5Ya+Po35va33qb0=",
          "dtype": "f4"
         },
         "xaxis": "x",
         "y": {
          "bdata": "Hbs8v/QxQj7SDga+sfM6PtRpyj3sBXI9IvqYPGatOz4=",
          "dtype": "f4"
         },
         "yaxis": "y"
        },
        {
         "hovertemplate": "poema=Eu<br>cluster=0<br>x=%{x}<br>y=%{y}<extra></extra>",
         "legendgroup": "Eu, 0",
         "marker": {
          "color": "#000005",
          "symbol": "circle"
         },
         "mode": "markers",
         "name": "Eu, 0",
         "orientation": "v",
         "showlegend": true,
         "type": "scatter",
         "x": {
          "bdata": "kD6kOoBSi77WLuc9zTEgPlefojylpLc++lIKP+bQvT1gx4++1KncvrX1UL0=",
          "dtype": "f4"
         },
         "xaxis": "x",
         "y": {
          "bdata": "FBA0vvB+aL5H//a8QN3aPODbIT50pXy+UNqHvWmVgL4wToe+uFYXvueIMT4=",
          "dtype": "f4"
         },
         "yaxis": "y"
        },
        {
         "hovertemplate": "poema=Eu<br>cluster=1<br>x=%{x}<br>y=%{y}<extra></extra>",
         "legendgroup": "Eu, 1",
         "marker": {
          "color": "#000005",
          "symbol": "diamond"
         },
         "mode": "markers",
         "name": "Eu, 1",
         "orientation": "v",
         "showlegend": true,
         "type": "scatter",
         "x": {
          "bdata": "ob1OPgJgjr0STrc8/rFCPicnLr1dY0y9GGulvhL0GD6M4aa+",
          "dtype": "f4"
         },
         "xaxis": "x",
         "y": {
          "bdata": "Ag+ivTWbZL5ioOQ+TmvvPgfjQjyNL2y9ZcLvPdg4rTzhn7E+",
          "dtype": "f4"
         },
         "yaxis": "y"
        },
        {
         "hovertemplate": "poema=Mão<br>cluster=0<br>x=%{x}<br>y=%{y}<extra></extra>",
         "legendgroup": "Mão, 0",
         "marker": {
          "color": "#000006",
          "symbol": "circle"
         },
         "mode": "markers",
         "name": "Mão, 0",
         "orientation": "v",
         "showlegend": true,
         "type": "scatter",
         "x": {
          "bdata": "HPH/vt85kL35Mgg+FjrRvRhkpD4=",
          "dtype": "f4"
         },
         "xaxis": "x",
         "y": {
          "bdata": "lD82PY6oCT4fjqq+/j9EvhcVB78=",
          "dtype": "f4"
         },
         "yaxis": "y"
        },
        {
         "hovertemplate": "poema=Mão<br>cluster=1<br>x=%{x}<br>y=%{y}<extra></extra>",
         "legendgroup": "Mão, 1",
         "marker": {
          "color": "#000006",
          "symbol": "diamond"
         },
         "mode": "markers",
         "name": "Mão, 1",
         "orientation": "v",
         "showlegend": true,
         "type": "scatter",
         "x": {
          "bdata": "9y3JPgnJ576Qa44+",
          "dtype": "f4"
         },
         "xaxis": "x",
         "y": {
          "bdata": "lbjdPqQ8uz1QtLI+",
          "dtype": "f4"
         },
         "yaxis": "y"
        },
        {
         "hovertemplate": "poema=Mas há a vida<br>cluster=0<br>x=%{x}<br>y=%{y}<extra></extra>",
         "legendgroup": "Mas há a vida, 0",
         "marker": {
          "color": "#000007",
          "symbol": "circle"
         },
         "mode": "markers",
         "name": "Mas há a vida, 0",
         "orientation": "v",
         "showlegend": true,
         "type": "scatter",
         "x": {
          "bdata": "6+6KvpGsqL53Pwu/",
          "dtype": "f4"
         },
         "xaxis": "x",
         "y": {
          "bdata": "ctsQvhU/vD49t7I9",
          "dtype": "f4"
         },
         "yaxis": "y"
        },
        {
         "hovertemplate": "poema=Mas há a vida<br>cluster=1<br>x=%{x}<br>y=%{y}<extra></extra>",
         "legendgroup": "Mas há a vida, 1",
         "marker": {
          "color": "#000007",
          "symbol": "diamond"
         },
         "mode": "markers",
         "name": "Mas há a vida, 1",
         "orientation": "v",
         "showlegend": true,
         "type": "scatter",
         "x": {
          "bdata": "k4QFPn16Hz8GIYk97RqmPg==",
          "dtype": "f4"
         },
         "xaxis": "x",
         "y": {
          "bdata": "bxunvj+N+j5k0bK9oTzHvg==",
          "dtype": "f4"
         },
         "yaxis": "y"
        },
        {
         "hovertemplate": "poema=Meu Deus, me dê a coragem<br>cluster=0<br>x=%{x}<br>y=%{y}<extra></extra>",
         "legendgroup": "Meu Deus, me dê a coragem, 0",
         "marker": {
          "color": "#000008",
          "symbol": "circle"
         },
         "mode": "markers",
         "name": "Meu Deus, me dê a coragem, 0",
         "orientation": "v",
         "showlegend": true,
         "type": "scatter",
         "x": {
          "bdata": "q7jkvlY2U75Brtm+Ej9evu+cPz4bcHE+J4VwvnAPXr4=",
          "dtype": "f4"
         },
         "xaxis": "x",
         "y": {
          "bdata": "xqzvPkNEyb6DGsI8HdSEvX8pjz4gpY8+14fPPtQjoL0=",
          "dtype": "f4"
         },
         "yaxis": "y"
        },
        {
         "hovertemplate": "poema=Meu Deus, me dê a coragem<br>cluster=1<br>x=%{x}<br>y=%{y}<extra></extra>",
         "legendgroup": "Meu Deus, me dê a coragem, 1",
         "marker": {
          "color": "#000008",
          "symbol": "diamond"
         },
         "mode": "markers",
         "name": "Meu Deus, me dê a coragem, 1",
         "orientation": "v",
         "showlegend": true,
         "type": "scatter",
         "x": {
          "bdata": "kYZ0vjV8ST5TPIg+QT2+Pv1kxb1PiVc9mfY9vv8kiL68Ft4+9UjbPhrbsj7pnRK7NnpsPA==",
          "dtype": "f4"
         },
         "xaxis": "x",
         "y": {
          "bdata": "OTa3vpYvQ76Pmo89qIO7PFlIrr5Yinm+b8eEvM24nD56rSw98Bd6PRbOhD0YBpe+gsM2vQ==",
          "dtype": "f4"
         },
         "yaxis": "y"
        },
        {
         "hovertemplate": "poema=Minha alma tem o peso da luz<br>cluster=0<br>x=%{x}<br>y=%{y}<extra></extra>",
         "legendgroup": "Minha alma tem o peso da luz, 0",
         "marker": {
          "color": "#000009",
          "symbol": "circle"
         },
         "mode": "markers",
         "name": "Minha alma tem o peso da luz, 0",
         "orientation": "v",
         "showlegend": true,
         "type": "scatter",
         "x": {
          "bdata": "XcaqPv0EVj5FwOo8IQ31vsQkij3VQgE+YMGPPstb0b6+HUk+",
          "dtype": "f4"
         },
         "xaxis": "x",
         "y": {
          "bdata": "cH67PmpyJj3utwG+bEubPb8YiL7MrXu+xEXXveH43D5MpkA+",
          "dtype": "f4"
         },
         "yaxis": "y"
        },
        {
         "hovertemplate": "poema=Minha alma tem o peso da luz<br>cluster=1<br>x=%{x}<br>y=%{y}<extra></extra>",
         "legendgroup": "Minha alma tem o peso da luz, 1",
         "marker": {
          "color": "#000009",
          "symbol": "diamond"
         },
         "mode": "markers",
         "name": "Minha alma tem o peso da luz, 1",
         "orientation": "v",
         "showlegend": true,
         "type": "scatter",
         "x": {
          "bdata": "x4a1vg==",
          "dtype": "f4"
         },
         "xaxis": "x",
         "y": {
          "bdata": "ks63vg==",
          "dtype": "f4"
         },
         "yaxis": "y"
        },
        {
         "hovertemplate": "poema=Não te amo mais<br>cluster=0<br>x=%{x}<br>y=%{y}<extra></extra>",
         "legendgroup": "Não te amo mais, 0",
         "marker": {
          "color": "#000010",
          "symbol": "circle"
         },
         "mode": "markers",
         "name": "Não te amo mais, 0",
         "orientation": "v",
         "showlegend": true,
         "type": "scatter",
         "x": {
          "bdata": "uB8RPr5GCr68vii+NvXWvtFNo74oXhg8nGmjvgW08L5IT2a9",
          "dtype": "f4"
         },
         "xaxis": "x",
         "y": {
          "bdata": "1ayqvm8VXT5RYd69+/QcPYoi1r2QVSE9bOTCvW4wlz05MmY9",
          "dtype": "f4"
         },
         "yaxis": "y"
        },
        {
         "hovertemplate": "poema=Não te amo mais<br>cluster=1<br>x=%{x}<br>y=%{y}<extra></extra>",
         "legendgroup": "Não te amo mais, 1",
         "marker": {
          "color": "#000010",
          "symbol": "diamond"
         },
         "mode": "markers",
         "name": "Não te amo mais, 1",
         "orientation": "v",
         "showlegend": true,
         "type": "scatter",
         "x": {
          "bdata": "iMyOPhkLHD5/43+9L+AaPm39/D7nRqE+cNDOPg==",
          "dtype": "f4"
         },
         "xaxis": "x",
         "y": {
          "bdata": "fWi4vNnv67yka+k+Zf3MvgEerj6+r7K+FBNkPg==",
          "dtype": "f4"
         },
         "yaxis": "y"
        },
        {
         "hovertemplate": "poema=Nossa truculência<br>cluster=0<br>x=%{x}<br>y=%{y}<extra></extra>",
         "legendgroup": "Nossa truculência, 0",
         "marker": {
          "color": "#000001",
          "symbol": "circle"
         },
         "mode": "markers",
         "name": "Nossa truculência, 0",
         "orientation": "v",
         "showlegend": true,
         "type": "scatter",
         "x": {
          "bdata": "XfhCOkHaJr7u28M+JjctPVQz0L0hmiO+c4v4PUqjmDx+ZAK+hjY2PsiS9j3AgcQ+voUqPvIuYD79ShI/",
          "dtype": "f4"
         },
         "xaxis": "x",
         "y": {
          "bdata": "qojtPTlyCj9xfh++hnKqPqF61z2Wp9O8ZTk5OyRr1ryC7Qw/WWwGP4WTtj0N2Uu+xLIxPm2jJr2p40q+",
          "dtype": "f4"
         },
         "yaxis": "y"
        },
        {
         "hovertemplate": "poema=Nossa truculência<br>cluster=1<br>x=%{x}<br>y=%{y}<extra></extra>",
         "legendgroup": "Nossa truculência, 1",
         "marker": {
          "color": "#000001",
          "symbol": "diamond"
         },
         "mode": "markers",
         "name": "Nossa truculência, 1",
         "orientation": "v",
         "showlegend": true,
         "type": "scatter",
         "x": {
          "bdata": "HkafPRMvgr4++Ic+QYTJvbNQ8b6kU3U9+bpNPlcK2L5maKy+9KizvvBqWr6Ap+G9",
          "dtype": "f4"
         },
         "xaxis": "x",
         "y": {
          "bdata": "Vjdevv+qcL1U8Du9zFQHvfvXQL5HjGm+JVtpvsvDiL4maTq+M+f0vUeHJ752z3G9",
          "dtype": "f4"
         },
         "yaxis": "y"
        },
        {
         "hovertemplate": "poema=Quero escrever o borrão vermelho de sangue<br>cluster=0<br>x=%{x}<br>y=%{y}<extra></extra>",
         "legendgroup": "Quero escrever o borrão vermelho de sangue, 0",
         "marker": {
          "color": "#000002",
          "symbol": "circle"
         },
         "mode": "markers",
         "name": "Quero escrever o borrão vermelho de sangue, 0",
         "orientation": "v",
         "showlegend": true,
         "type": "scatter",
         "x": {
          "bdata": "X+waPv/CYz5yBQo+rAbpOKl7Kr7hAyw+/DyTus0ATj54ZGc+4JEUvq/1p71CHwc+7EVbPgvjK74=",
          "dtype": "f4"
         },
         "xaxis": "x",
         "y": {
          "bdata": "WZckvJ32UDzHjV6+wRg4PrFi9j6lRIA9bKE9PoPXqD11/cq7F7MHPgXIUz47sV++rYqIvbEHtD4=",
          "dtype": "f4"
         },
         "yaxis": "y"
        },
        {
         "hovertemplate": "poema=Quero escrever o borrão vermelho de sangue<br>cluster=1<br>x=%{x}<br>y=%{y}<extra></extra>",
         "legendgroup": "Quero escrever o borrão vermelho de sangue, 1",
         "marker": {
          "color": "#000002",
          "symbol": "diamond"
         },
         "mode": "markers",
         "name": "Quero escrever o borrão vermelho de sangue, 1",
         "orientation": "v",
         "showlegend": true,
         "type": "scatter",
         "x": {
          "bdata": "R3OgPWD0zD2xlkG/Aj6DPt5F+z3rC9S8dyU4PZIjNb8=",
          "dtype": "f4"
         },
         "xaxis": "x",
         "y": {
          "bdata": "taZNvk4IFb70bT6+bkw/vcoNfL6rv6u+WPM0PgT4RL4=",
          "dtype": "f4"
         },
         "yaxis": "y"
        },
        {
         "hovertemplate": "poema=Solidão<br>cluster=0<br>x=%{x}<br>y=%{y}<extra></extra>",
         "legendgroup": "Solidão, 0",
         "marker": {
          "color": "#000003",
          "symbol": "circle"
         },
         "mode": "markers",
         "name": "Solidão, 0",
         "orientation": "v",
         "showlegend": true,
         "type": "scatter",
         "x": {
          "bdata": "xTyEvlPTgL5KHpa+ClRZvg==",
          "dtype": "f4"
         },
         "xaxis": "x",
         "y": {
          "bdata": "cyd/vsoV5T2PdUK9AFazvg==",
          "dtype": "f4"
         },
         "yaxis": "y"
        },
        {
         "hovertemplate": "poema=Solidão<br>cluster=1<br>x=%{x}<br>y=%{y}<extra></extra>",
         "legendgroup": "Solidão, 1",
         "marker": {
          "color": "#000003",
          "symbol": "diamond"
         },
         "mode": "markers",
         "name": "Solidão, 1",
         "orientation": "v",
         "showlegend": true,
         "type": "scatter",
         "x": {
          "bdata": "jIt7Py8KBj0=",
          "dtype": "f4"
         },
         "xaxis": "x",
         "y": {
          "bdata": "8A4ZvjU9Lz8=",
          "dtype": "f4"
         },
         "yaxis": "y"
        },
        {
         "hovertemplate": "poema=Sonhe<br>cluster=0<br>x=%{x}<br>y=%{y}<extra></extra>",
         "legendgroup": "Sonhe, 0",
         "marker": {
          "color": "#000004",
          "symbol": "circle"
         },
         "mode": "markers",
         "name": "Sonhe, 0",
         "orientation": "v",
         "showlegend": true,
         "type": "scatter",
         "x": {
          "bdata": "PYrAukukpb4=",
          "dtype": "f4"
         },
         "xaxis": "x",
         "y": {
          "bdata": "A4bpPrznQ70=",
          "dtype": "f4"
         },
         "yaxis": "y"
        },
        {
         "hovertemplate": "poema=Sonhe<br>cluster=1<br>x=%{x}<br>y=%{y}<extra></extra>",
         "legendgroup": "Sonhe, 1",
         "marker": {
          "color": "#000004",
          "symbol": "diamond"
         },
         "mode": "markers",
         "name": "Sonhe, 1",
         "orientation": "v",
         "showlegend": true,
         "type": "scatter",
         "x": {
          "bdata": "EYq+vnPcur7qYP29g7/OPqyw5D4nvLM+XxPSPsiyXD2PDpm9z4kjvtxTe74=",
          "dtype": "f4"
         },
         "xaxis": "x",
         "y": {
          "bdata": "a+ODvvbuwz6t5+e+7yZ6Poode76HVDC9HRyqO9+pwT1d/B6+F101voPlSD4=",
          "dtype": "f4"
         },
         "yaxis": "y"
        },
        {
         "hovertemplate": "poema=Sou<br>cluster=0<br>x=%{x}<br>y=%{y}<extra></extra>",
         "legendgroup": "Sou, 0",
         "marker": {
          "color": "#000005",
          "symbol": "circle"
         },
         "mode": "markers",
         "name": "Sou, 0",
         "orientation": "v",
         "showlegend": true,
         "type": "scatter",
         "x": {
          "bdata": "E+aQvnplzr0NJoi+2dPtvUXOrrzfryy+LAUUvob8Dr4=",
          "dtype": "f4"
         },
         "xaxis": "x",
         "y": {
          "bdata": "y9YjPakgBr6GSqY+VDuRvY2hkD0iPUc+ntyIvLxDmD4=",
          "dtype": "f4"
         },
         "yaxis": "y"
        },
        {
         "hovertemplate": "poema=Sou<br>cluster=1<br>x=%{x}<br>y=%{y}<extra></extra>",
         "legendgroup": "Sou, 1",
         "marker": {
          "color": "#000005",
          "symbol": "diamond"
         },
         "mode": "markers",
         "name": "Sou, 1",
         "orientation": "v",
         "showlegend": true,
         "type": "scatter",
         "x": {
          "bdata": "2iSDP2EllD3DhhI+",
          "dtype": "f4"
         },
         "xaxis": "x",
         "y": {
          "bdata": "01J/PuuY4r7N+QO/",
          "dtype": "f4"
         },
         "yaxis": "y"
        }
       ],
       "layout": {
        "height": 600,
        "legend": {
         "title": {
          "text": "poema, cluster"
         },
         "tracegroupgap": 0
        },
        "template": {
         "data": {
          "candlestick": [
           {
            "decreasing": {
             "line": {
              "color": "#000033"
             }
            },
            "increasing": {
             "line": {
              "color": "#000032"
             }
            },
            "type": "candlestick"
           }
          ],
          "contour": [
           {
            "colorscale": [
             [
              0,
              "#000011"
             ],
             [
              0.1111111111111111,
              "#000012"
             ],
             [
              0.2222222222222222,
              "#000013"
             ],
             [
              0.3333333333333333,
              "#000014"
             ],
             [
              0.4444444444444444,
              "#000015"
             ],
             [
              0.5555555555555556,
              "#000016"
             ],
             [
              0.6666666666666666,
              "#000017"
             ],
             [
              0.7777777777777778,
              "#000018"
             ],
             [
              0.8888888888888888,
              "#000019"
             ],
             [
              1,
              "#000020"
             ]
            ],
            "type": "contour"
           }
          ],
          "contourcarpet": [
           {
            "colorscale": [
             [
              0,
              "#000011"
             ],
             [
              0.1111111111111111,
              "#000012"
             ],
             [
              0.2222222222222222,
              "#000013"
             ],
             [
              0.3333333333333333,
              "#000014"
             ],
             [
              0.4444444444444444,
              "#000015"
             ],
             [
              0.5555555555555556,
              "#000016"
             ],
             [
              0.6666666666666666,
              "#000017"
             ],
             [
              0.7777777777777778,
              "#000018"
             ],
             [
              0.8888888888888888,
              "#000019"
             ],
             [
              1,
              "#000020"
             ]
            ],
            "type": "contourcarpet"
           }
          ],
          "heatmap": [
           {
            "colorscale": [
             [
              0,
              "#000011"
             ],
             [
              0.1111111111111111,
              "#000012"
             ],
             [
              0.2222222222222222,
              "#000013"
             ],
             [
              0.3333333333333333,
              "#000014"
             ],
             [
              0.4444444444444444,
              "#000015"
             ],
             [
              0.5555555555555556,
              "#000016"
             ],
             [
              0.6666666666666666,
              "#000017"
             ],
             [
              0.7777777777777778,
              "#000018"
             ],
             [
              0.8888888888888888,
              "#000019"
             ],
             [
              1,
              "#000020"
             ]
            ],
            "type": "heatmap"
           }
          ],
          "histogram2d": [
           {
            "colorscale": [
             [
              0,
              "#000011"
             ],
             [
              0.1111111111111111,
              "#000012"
             ],
             [
              0.2222222222222222,
              "#000013"
             ],
             [
              0.3333333333333333,
              "#000014"
             ],
             [
              0.4444444444444444,
              "#000015"
             ],
             [
              0.5555555555555556,
              "#000016"
             ],
             [
              0.6666666666666666,
              "#000017"
             ],
             [
              0.7777777777777778,
              "#000018"
             ],
             [
              0.8888888888888888,
              "#000019"
             ],
             [
              1,
              "#000020"
             ]
            ],
            "type": "histogram2d"
           }
          ],
          "icicle": [
           {
            "textfont": {
             "color": "white"
            },
            "type": "icicle"
           }
          ],
          "sankey": [
           {
            "textfont": {
             "color": "#000036"
            },
            "type": "sankey"
           }
          ],
          "scatter": [
           {
            "marker": {
             "line": {
              "width": 0
             }
            },
            "type": "scatter"
           }
          ],
          "table": [
           {
            "cells": {
             "fill": {
              "color": "#000038"
             },
             "font": {
              "color": "#000037"
             },
             "line": {
              "color": "#000039"
             }
            },
            "header": {
             "fill": {
              "color": "#000040"
             },
             "font": {
              "color": "#000036"
             },
             "line": {
              "color": "#000039"
             }
            },
            "type": "table"
           }
          ],
          "waterfall": [
           {
            "connector": {
             "line": {
              "color": "#000036",
              "width": 2
             }
            },
            "decreasing": {
             "marker": {
              "color": "#000033"
             }
            },
            "increasing": {
             "marker": {
              "color": "#000032"
             }
            },
            "totals": {
             "marker": {
              "color": "#000034"
             }
            },
            "type": "waterfall"
           }
          ]
         },
         "layout": {
          "coloraxis": {
           "colorscale": [
            [
             0,
             "#000011"
            ],
            [
             0.1111111111111111,
             "#000012"
            ],
            [
             0.2222222222222222,
             "#000013"
            ],
            [
             0.3333333333333333,
             "#000014"
            ],
            [
             0.4444444444444444,
             "#000015"
            ],
            [
             0.5555555555555556,
             "#000016"
            ],
            [
             0.6666666666666666,
             "#000017"
            ],
            [
             0.7777777777777778,
             "#000018"
            ],
            [
             0.8888888888888888,
             "#000019"
            ],
            [
             1,
             "#000020"
            ]
           ]
          },
          "colorscale": {
           "diverging": [
            [
             0,
             "#000021"
            ],
            [
             0.1,
             "#000022"
            ],
            [
             0.2,
             "#000023"
            ],
            [
             0.3,
             "#000024"
            ],
            [
             0.4,
             "#000025"
            ],
            [
             0.5,
             "#000026"
            ],
            [
             0.6,
             "#000027"
            ],
            [
             0.7,
             "#000028"
            ],
            [
             0.8,
             "#000029"
            ],
            [
             0.9,
             "#000030"
            ],
            [
             1,
             "#000031"
            ]
           ],
           "sequential": [
            [
             0,
             "#000011"
            ],
            [
             0.1111111111111111,
             "#000012"
            ],
            [
             0.2222222222222222,
             "#000013"
            ],
            [
             0.3333333333333333,
             "#000014"
            ],
            [
             0.4444444444444444,
             "#000015"
            ],
            [
             0.5555555555555556,
             "#000016"
            ],
            [
             0.6666666666666666,
             "#000017"
            ],
            [
             0.7777777777777778,
             "#000018"
            ],
            [
             0.8888888888888888,
             "#000019"
            ],
            [
             1,
             "#000020"
            ]
           ],
           "sequentialminus": [
            [
             0,
             "#000011"
            ],
            [
             0.1111111111111111,
             "#000012"
            ],
            [
             0.2222222222222222,
             "#000013"
            ],
            [
             0.3333333333333333,
             "#000014"
            ],
            [
             0.4444444444444444,
             "#000015"
            ],
            [
             0.5555555555555556,
             "#000016"
            ],
            [
             0.6666666666666666,
             "#000017"
            ],
            [
             0.7777777777777778,
             "#000018"
            ],
            [
             0.8888888888888888,
             "#000019"
            ],
            [
             1,
             "#000020"
            ]
           ]
          },
          "colorway": [
           "#000001",
           "#000002",
           "#000003",
           "#000004",
           "#000005",
           "#000006",
           "#000007",
           "#000008",
           "#000009",
           "#000010"
          ]
         }
        },
        "title": {
         "text": "Visão geral dos clusters semânticos (todas as linhas)"
        },
        "width": 800,
        "xaxis": {
         "anchor": "y",
         "domain": [
          0,
          1
         ],
         "title": {
          "text": "x"
         }
        },
        "yaxis": {
         "anchor": "x",
         "domain": [
          0,
          1
         ],
         "title": {
          "text": "y"
         }
        }
       }
      }
     },
     "metadata": {},
     "output_type": "display_data"
    }
   ],
   "source": [
    "# Scatter geral dos clusters semânticos (todas as linhas de todos os poemas)\n",
    "fig2 = px.scatter(\n",
    "    df_all, x='x', y='y', color='poema', symbol='cluster',\n",
    "    title='Visão geral dos clusters semânticos (todas as linhas)'\n",
    ")\n",
    "fig2.update_layout(height=600, width=800)\n",
    "fig2.show()\n"
   ]
  },
  {
   "cell_type": "markdown",
   "id": "88dbecc2",
   "metadata": {},
   "source": [
    "## 5. Conclusões (em Português)\n",
    "Observamos que a redução de dimensionalidade mostrou agrupamentos de poemas semanticamente próximos. A medida de criatividade, definida como a média das distâncias semânticas entre as linhas de cada poema, indica que poemas com maior variabilidade interna são potencialmente mais criativos. No entanto, essa métrica serve apenas como um indicador inicial e deve ser refinada com análises qualitativas adicionais e validação com especialistas em literatura."
   ]
  }
 ],
 "metadata": {
  "kernelspec": {
   "display_name": "default",
   "language": "python",
   "name": "python3"
  },
  "language_info": {
   "codemirror_mode": {
    "name": "ipython",
    "version": 3
   },
   "file_extension": ".py",
   "mimetype": "text/x-python",
   "name": "python",
   "nbconvert_exporter": "python",
   "pygments_lexer": "ipython3",
   "version": "3.11.8"
  }
 },
 "nbformat": 4,
 "nbformat_minor": 5
}
